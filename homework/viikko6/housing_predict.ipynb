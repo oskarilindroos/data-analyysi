{
 "cells": [
  {
   "cell_type": "code",
   "execution_count": 149,
   "metadata": {},
   "outputs": [],
   "source": [
    "import pandas as pd\n",
    "import pickle"
   ]
  },
  {
   "cell_type": "code",
   "execution_count": 150,
   "metadata": {},
   "outputs": [],
   "source": [
    "# ladataan malli levyltä\n",
    "with open('housing-model.pickle', 'rb') as f:\n",
    "    model = pickle.load(f)\n",
    "\n",
    "# ladataan enkooderi\n",
    "with open('housing-ct.pickle', 'rb') as f:\n",
    "    ct = pickle.load(f)"
   ]
  },
  {
   "cell_type": "code",
   "execution_count": 151,
   "metadata": {},
   "outputs": [
    {
     "name": "stdout",
     "output_type": "stream",
     "text": [
      "longitude              -122.29\n",
      "latitude                 37.81\n",
      "housing_median_age        41.0\n",
      "total_rooms              880.0\n",
      "total_bedrooms           129.0\n",
      "median_income           8.3252\n",
      "ocean_proximity       NEAR BAY\n",
      "Name: 0, dtype: object\n",
      "Predicted value: 420632.1874042561\n",
      "\n",
      "longitude              -122.28\n",
      "latitude                 37.81\n",
      "housing_median_age        21.0\n",
      "total_rooms             7099.0\n",
      "total_bedrooms          1106.0\n",
      "median_income           8.3014\n",
      "ocean_proximity       NEAR BAY\n",
      "Name: 1, dtype: object\n",
      "Predicted value: 403110.96309793345\n",
      "\n",
      "longitude              -122.27\n",
      "latitude                 37.81\n",
      "housing_median_age        52.0\n",
      "total_rooms             1467.0\n",
      "total_bedrooms           190.0\n",
      "median_income           7.2574\n",
      "ocean_proximity       NEAR BAY\n",
      "Name: 2, dtype: object\n",
      "Predicted value: 386246.351612658\n",
      "\n",
      "longitude              -122.29\n",
      "latitude                 37.82\n",
      "housing_median_age        52.0\n",
      "total_rooms             1274.0\n",
      "total_bedrooms           235.0\n",
      "median_income           5.6431\n",
      "ocean_proximity       NEAR BAY\n",
      "Name: 3, dtype: object\n",
      "Predicted value: 326478.4384208766\n",
      "\n",
      "longitude              -122.29\n",
      "latitude                 37.83\n",
      "housing_median_age        52.0\n",
      "total_rooms             1627.0\n",
      "total_bedrooms           280.0\n",
      "median_income           3.8462\n",
      "ocean_proximity       NEAR BAY\n",
      "Name: 4, dtype: object\n",
      "Predicted value: 251913.59724838217\n",
      "\n"
     ]
    }
   ],
   "source": [
    "# ennusta uudella datalla\n",
    "Xnew = pd.read_csv('./work/viikko6/datasets/new_house_ct.csv')\n",
    "Xnew_org = Xnew\n",
    "Xnew=ct.transform(Xnew)\n",
    "\n",
    "# ennustetaan\n",
    "ynew = model.predict(Xnew)\n",
    "\n",
    "\n",
    "for i in range (len(ynew)):\n",
    "    print (f'{Xnew_org.iloc[i]}\\nPredicted value: {ynew[i]}\\n')\n",
    "\n",
    "coef = model.coef_\n",
    "inter = model.intercept_\n",
    "print (f'Coefficients: {coef}\\nIntercept: {inter}')"
   ]
  }
 ],
 "metadata": {
  "kernelspec": {
   "display_name": "Python 3 (ipykernel)",
   "language": "python",
   "name": "python3"
  },
  "language_info": {
   "codemirror_mode": {
    "name": "ipython",
    "version": 3
   },
   "file_extension": ".py",
   "mimetype": "text/x-python",
   "name": "python",
   "nbconvert_exporter": "python",
   "pygments_lexer": "ipython3",
   "version": "3.11.5"
  },
  "orig_nbformat": 4
 },
 "nbformat": 4,
 "nbformat_minor": 2
}
