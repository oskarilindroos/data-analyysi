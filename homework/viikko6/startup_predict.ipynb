{
 "cells": [
  {
   "cell_type": "code",
   "execution_count": 21,
   "metadata": {},
   "outputs": [],
   "source": [
    "import pandas as pd\n",
    "import pickle"
   ]
  },
  {
   "cell_type": "code",
   "execution_count": 22,
   "metadata": {},
   "outputs": [],
   "source": [
    "# ladataan malli levyltä\n",
    "with open('startup-model.pickle', 'rb') as f:\n",
    "    model = pickle.load(f)\n",
    "\n",
    "# ladataan enkooderi\n",
    "with open('startup-ct.pickle', 'rb') as f:\n",
    "    ct = pickle.load(f)\n",
    "    \n",
    "# lue skaalerit\n",
    "with open('startup-scaler-x.pickle', 'rb') as f:\n",
    "    scaler_x = pickle.load(f)\n",
    "\n",
    "with open('startup-scaler-y.pickle', 'rb') as f:\n",
    "    scaler_y = pickle.load(f)"
   ]
  },
  {
   "cell_type": "code",
   "execution_count": 23,
   "metadata": {},
   "outputs": [
    {
     "name": "stdout",
     "output_type": "stream",
     "text": [
      "R&D Spend          165349.2\n",
      "Administration     136897.8\n",
      "Marketing Spend    471784.1\n",
      "State              New York\n",
      "Name: 0, dtype: object\n",
      "Voitto: 2.062813154946949\n",
      "\n"
     ]
    }
   ],
   "source": [
    "# ennusta uudella datalla\n",
    "Xnew = pd.read_csv('./work/viikko6/datasets/new_company_ct.csv')\n",
    "Xnew_org = Xnew\n",
    "Xnew=ct.transform(Xnew)\n",
    "\n",
    "# skaalaa Xnew\n",
    "Xnew = scaler_x.transform(Xnew)\n",
    "\n",
    "# ennusta ja aja inverse scaler\n",
    "ynew = scaler_y.inverse_transform(model.predict(Xnew))\n",
    "#ynew = model.predict(Xnew)\n",
    "\n",
    "for i in range (len(ynew)):\n",
    "    print (f'{Xnew_org.iloc[i]}\\nVoitto: {ynew[i][0]}\\n')\n",
    "\n",
    "coef = model.coef_\n",
    "inter = model.intercept_"
   ]
  }
 ],
 "metadata": {
  "kernelspec": {
   "display_name": "Python 3 (ipykernel)",
   "language": "python",
   "name": "python3"
  },
  "language_info": {
   "codemirror_mode": {
    "name": "ipython",
    "version": 3
   },
   "file_extension": ".py",
   "mimetype": "text/x-python",
   "name": "python",
   "nbconvert_exporter": "python",
   "pygments_lexer": "ipython3",
   "version": "3.11.5"
  },
  "orig_nbformat": 4
 },
 "nbformat": 4,
 "nbformat_minor": 2
}
