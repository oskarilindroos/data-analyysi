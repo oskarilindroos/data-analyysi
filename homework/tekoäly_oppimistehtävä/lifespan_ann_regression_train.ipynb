{
 "cells": [
  {
   "cell_type": "code",
   "execution_count": 286,
   "metadata": {},
   "outputs": [],
   "source": [
    "import numpy as np\n",
    "import pandas as pd\n",
    "from sklearn.metrics import mean_absolute_error, r2_score, mean_squared_error\n",
    "import matplotlib.pyplot as plt\n",
    "from sklearn.model_selection import train_test_split\n",
    "from tensorflow.keras.models import Sequential\n",
    "from tensorflow.keras.layers import Dense,Dropout\n",
    "from sklearn.preprocessing import OneHotEncoder\n",
    "from sklearn.compose import ColumnTransformer\n",
    "from sklearn.preprocessing import StandardScaler\n",
    "import pickle"
   ]
  },
  {
   "cell_type": "code",
   "execution_count": 287,
   "metadata": {},
   "outputs": [],
   "source": [
    "# Read data\n",
    "df = pd.read_csv('./homework/tekoäly_oppimistehtävä/datasets/fish_data.csv')\n",
    "\n",
    "# Drop rows with missing values\n",
    "df = df.dropna()\n",
    "\n",
    "y = df['life_span']\n",
    "X = df[['average_length(inches))',\n",
    "        'average_weight(inches))',\n",
    "        'habitat',\n",
    "        'color',\n",
    "        'ph_of_water',\n",
    "        'Gender' # true = male, false = female\n",
    "        ]]\n",
    "y = y.values.reshape(-1,1)"
   ]
  },
  {
   "cell_type": "code",
   "execution_count": 288,
   "metadata": {},
   "outputs": [
    {
     "name": "stdout",
     "output_type": "stream",
     "text": [
      "Statistics:\n",
      "       average_length(inches))  average_weight(inches))  ph_of_water\n",
      "count              1976.000000              1976.000000  1976.000000\n",
      "mean                 10.557586                10.449297     7.014727\n",
      "std                   5.525760                 4.898631     0.577608\n",
      "min                   1.000000                 2.000000     6.000000\n",
      "25%                   5.850000                 6.127500     6.500000\n",
      "50%                  10.680000                10.455000     7.000000\n",
      "75%                  15.172500                14.700000     7.500000\n",
      "max                  20.000000                18.960000     8.000000\n",
      "Info:\n",
      "<class 'pandas.core.frame.DataFrame'>\n",
      "Index: 1976 entries, 0 to 1999\n",
      "Data columns (total 6 columns):\n",
      " #   Column                   Non-Null Count  Dtype  \n",
      "---  ------                   --------------  -----  \n",
      " 0   average_length(inches))  1976 non-null   float64\n",
      " 1   average_weight(inches))  1976 non-null   float64\n",
      " 2   habitat                  1976 non-null   object \n",
      " 3   color                    1976 non-null   object \n",
      " 4   ph_of_water              1976 non-null   float64\n",
      " 5   Gender                   1976 non-null   object \n",
      "dtypes: float64(3), object(3)\n",
      "memory usage: 108.1+ KB\n",
      "None\n"
     ]
    }
   ],
   "source": [
    "# Statistics\n",
    "print('Statistics:')\n",
    "print(X.describe())\n",
    "\n",
    "# Info\n",
    "print('Info:')\n",
    "print(X.info())"
   ]
  },
  {
   "cell_type": "code",
   "execution_count": 289,
   "metadata": {},
   "outputs": [],
   "source": [
    "# One hot encoding\n",
    "X_org = X\n",
    "ct = ColumnTransformer(transformers=[('encoder',\n",
    "OneHotEncoder(drop='first'), ['habitat', 'color', 'Gender'])], remainder='passthrough')\n",
    "X = ct.fit_transform(X)"
   ]
  },
  {
   "cell_type": "code",
   "execution_count": 290,
   "metadata": {},
   "outputs": [],
   "source": [
    "# Splitting the dataset into the Training set and Test set\n",
    "X_train, X_test, y_train, y_test = train_test_split(X, y, test_size = 0.2,\n",
    "                                                    random_state = 0)"
   ]
  },
  {
   "cell_type": "code",
   "execution_count": 291,
   "metadata": {},
   "outputs": [],
   "source": [
    "# Scale data\n",
    "scaler_x = StandardScaler()\n",
    "X_train = scaler_x.fit_transform(X_train)\n",
    "X_test = scaler_x.transform(X_test)\n",
    "\n",
    "scaler_y = StandardScaler()\n",
    "y_train = scaler_y.fit_transform(y_train)\n",
    "y_test = scaler_y.transform(y_test)"
   ]
  },
  {
   "cell_type": "code",
   "execution_count": 292,
   "metadata": {},
   "outputs": [
    {
     "name": "stdout",
     "output_type": "stream",
     "text": [
      "Epoch 1/20\n",
      "99/99 [==============================] - 1s 8ms/step - loss: 1.4671 - mse: 1.4671 - val_loss: 1.1619 - val_mse: 1.1619\n",
      "Epoch 2/20\n",
      "99/99 [==============================] - 1s 8ms/step - loss: 1.2910 - mse: 1.2910 - val_loss: 1.0682 - val_mse: 1.0682\n",
      "Epoch 3/20\n",
      "99/99 [==============================] - 1s 8ms/step - loss: 1.1584 - mse: 1.1584 - val_loss: 1.0246 - val_mse: 1.0246\n",
      "Epoch 4/20\n",
      "99/99 [==============================] - 1s 9ms/step - loss: 1.1164 - mse: 1.1164 - val_loss: 1.0111 - val_mse: 1.0111\n",
      "Epoch 5/20\n",
      "99/99 [==============================] - 1s 8ms/step - loss: 1.1044 - mse: 1.1044 - val_loss: 0.9974 - val_mse: 0.9974\n",
      "Epoch 6/20\n",
      "99/99 [==============================] - 1s 8ms/step - loss: 1.0767 - mse: 1.0767 - val_loss: 0.9881 - val_mse: 0.9881\n",
      "Epoch 7/20\n",
      "99/99 [==============================] - 1s 9ms/step - loss: 1.0486 - mse: 1.0486 - val_loss: 0.9807 - val_mse: 0.9807\n",
      "Epoch 8/20\n",
      "99/99 [==============================] - 1s 9ms/step - loss: 1.0491 - mse: 1.0491 - val_loss: 0.9774 - val_mse: 0.9774\n",
      "Epoch 9/20\n",
      "99/99 [==============================] - 1s 9ms/step - loss: 1.0340 - mse: 1.0340 - val_loss: 0.9732 - val_mse: 0.9732\n",
      "Epoch 10/20\n",
      "99/99 [==============================] - 1s 8ms/step - loss: 1.0235 - mse: 1.0235 - val_loss: 0.9662 - val_mse: 0.9662\n",
      "Epoch 11/20\n",
      "99/99 [==============================] - 1s 8ms/step - loss: 1.0295 - mse: 1.0295 - val_loss: 0.9674 - val_mse: 0.9674\n",
      "Epoch 12/20\n",
      "99/99 [==============================] - 1s 8ms/step - loss: 1.0061 - mse: 1.0061 - val_loss: 0.9661 - val_mse: 0.9661\n",
      "Epoch 13/20\n",
      "99/99 [==============================] - 1s 8ms/step - loss: 1.0168 - mse: 1.0168 - val_loss: 0.9669 - val_mse: 0.9669\n",
      "Epoch 14/20\n",
      "99/99 [==============================] - 1s 8ms/step - loss: 0.9993 - mse: 0.9993 - val_loss: 0.9667 - val_mse: 0.9667\n",
      "Epoch 15/20\n",
      "99/99 [==============================] - 1s 8ms/step - loss: 0.9797 - mse: 0.9797 - val_loss: 0.9716 - val_mse: 0.9716\n",
      "Epoch 16/20\n",
      "99/99 [==============================] - 1s 7ms/step - loss: 0.9894 - mse: 0.9894 - val_loss: 0.9677 - val_mse: 0.9677\n",
      "Epoch 17/20\n",
      "99/99 [==============================] - 1s 8ms/step - loss: 0.9956 - mse: 0.9956 - val_loss: 0.9683 - val_mse: 0.9683\n",
      "Epoch 18/20\n",
      "99/99 [==============================] - 1s 7ms/step - loss: 0.9900 - mse: 0.9900 - val_loss: 0.9653 - val_mse: 0.9653\n",
      "Epoch 19/20\n",
      "99/99 [==============================] - 1s 8ms/step - loss: 0.9747 - mse: 0.9747 - val_loss: 0.9654 - val_mse: 0.9654\n",
      "Epoch 20/20\n",
      "99/99 [==============================] - 1s 7ms/step - loss: 0.9806 - mse: 0.9806 - val_loss: 0.9688 - val_mse: 0.9688\n"
     ]
    }
   ],
   "source": [
    "# Training the Multiple Linear Regression model on the Training set\n",
    "model = Sequential()\n",
    "model.add(Dense(15, input_dim=X.shape[1], activation='relu'))\n",
    "model.add(Dropout(0.15))\n",
    "model.add(Dense(1, activation='linear'))\n",
    "model.compile(loss='mse', optimizer='adam', metrics=['mse'])\n",
    "history=model.fit(X_train, y_train, epochs=20, batch_size=16, validation_data=(X_test,y_test))"
   ]
  },
  {
   "cell_type": "code",
   "execution_count": 293,
   "metadata": {},
   "outputs": [
    {
     "data": {
      "image/png": "[encoded data removed]",
      "text/plain": [
       "<Figure size 640x480 with 1 Axes>"
      ]
     },
     "metadata": {},
     "output_type": "display_data"
    }
   ],
   "source": [
    "plt.plot(history.history['loss'], label='Training Loss')\n",
    "plt.plot(history.history['val_loss'], label='Validation Loss')\n",
    "plt.xlabel('Epochs')\n",
    "plt.ylabel('Loss')\n",
    "plt.legend()\n",
    "plt.show()"
   ]
  },
  {
   "cell_type": "code",
   "execution_count": 294,
   "metadata": {},
   "outputs": [
    {
     "data": {
      "image/png": "[encoded data removed]",
      "text/plain": [
       "<Figure size 1000x600 with 1 Axes>"
      ]
     },
     "metadata": {},
     "output_type": "display_data"
    }
   ],
   "source": [
    "plt.figure(figsize=(10, 6))\n",
    "plt.plot(history.history['loss'], label='loss')\n",
    "plt.plot(history.history['val_loss'], label='val_loss')\n",
    "plt.legend()\n",
    "plt.ylim(bottom=0, top=5 * min(history.history['val_loss']))\n",
    "plt.grid(True)\n",
    "plt.show()"
   ]
  },
  {
   "cell_type": "code",
   "execution_count": 295,
   "metadata": {},
   "outputs": [
    {
     "name": "stdout",
     "output_type": "stream",
     "text": [
      "13/13 [==============================] - 0s 2ms/step\n"
     ]
    }
   ],
   "source": [
    "# Predicting the Test set results\n",
    "y_pred = scaler_y.inverse_transform(model.predict(X_test))\n",
    "y_test = scaler_y.inverse_transform(y_test)"
   ]
  },
  {
   "cell_type": "code",
   "execution_count": 298,
   "metadata": {},
   "outputs": [
    {
     "name": "stdout",
     "output_type": "stream",
     "text": [
      "r2:  -0.0695\n",
      "mae: 6.5826\n",
      "mse: 58.7522\n",
      "rmse: 7.665\n"
     ]
    }
   ],
   "source": [
    "# Regression metrics\n",
    "mae = mean_absolute_error(y_test, y_pred)\n",
    "r2 = r2_score(y_test, y_pred)\n",
    "mse = mean_squared_error(y_test, y_pred)\n",
    "rmse = np.sqrt(mse)\n",
    "\n",
    "print(f'r2:  {round(r2,4)}')\n",
    "print(f'mae: {round(mae,4)}')\n",
    "print(f'mse: {round(mse,4)}')\n",
    "print(f'rmse: {round(rmse,4)}')"
   ]
  },
  {
   "cell_type": "code",
   "execution_count": 297,
   "metadata": {},
   "outputs": [],
   "source": [
    "# Saving model\n",
    "with open('./homework/tekoäly_oppimistehtävä/models/lifespan-ann-reg.pickle', 'wb') as f:\n",
    "    pickle.dump(model, f)"
   ]
  }
 ],
 "metadata": {
  "kernelspec": {
   "display_name": "Python 3 (ipykernel)",
   "language": "python",
   "name": "python3"
  },
  "language_info": {
   "codemirror_mode": {
    "name": "ipython",
    "version": 3
   },
   "file_extension": ".py",
   "mimetype": "text/x-python",
   "name": "python",
   "nbconvert_exporter": "python",
   "pygments_lexer": "ipython3",
   "version": "3.11.0rc1"
  }
 },
 "nbformat": 4,
 "nbformat_minor": 2
}
