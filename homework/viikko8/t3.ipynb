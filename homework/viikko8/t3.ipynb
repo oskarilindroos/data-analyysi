{
 "cells": [
  {
   "cell_type": "code",
   "execution_count": 10,
   "metadata": {},
   "outputs": [],
   "source": [
    "import pandas as pd\n",
    "from sklearn.model_selection import train_test_split\n",
    "from sklearn.metrics import confusion_matrix, accuracy_score, precision_score, recall_score\n",
    "import matplotlib.pyplot as plt\n",
    "import seaborn as sns\n",
    "from sklearn.compose import ColumnTransformer\n",
    "from sklearn.preprocessing import OneHotEncoder\n",
    "from sklearn.tree import export_graphviz\n",
    "import graphviz\n",
    "from sklearn import tree"
   ]
  },
  {
   "cell_type": "code",
   "execution_count": 29,
   "metadata": {},
   "outputs": [
    {
     "name": "stdout",
     "output_type": "stream",
     "text": [
      "Index(['PClass', 'Age', 'Gender'], dtype='object')\n"
     ]
    }
   ],
   "source": [
    "df = pd.read_csv('./work/viikko8/datasets/titanic.csv')\n",
    "\n",
    "X = df.iloc[:, 0:3]\n",
    "y = df.iloc[:, [3]]\n",
    "columns = X.columns\n",
    "\n",
    "print(columns)"
   ]
  },
  {
   "cell_type": "code",
   "execution_count": 12,
   "metadata": {},
   "outputs": [],
   "source": [
    "# dummies\n",
    "X_org = X\n",
    "ct = ColumnTransformer(transformers=[('encoder', OneHotEncoder(drop='first'), ['PClass', 'Gender'])], remainder='passthrough')\n",
    "X = ct.fit_transform(X)"
   ]
  },
  {
   "cell_type": "code",
   "execution_count": 13,
   "metadata": {},
   "outputs": [],
   "source": [
    "# Splitting the dataset into the Training set and Test set\n",
    "X_train, X_test, y_train, y_test = train_test_split(X, y, test_size = 0.25, random_state = 0)"
   ]
  },
  {
   "cell_type": "code",
   "execution_count": 14,
   "metadata": {},
   "outputs": [],
   "source": [
    "# Training the Decision Tree Classification model\n",
    "model = tree.DecisionTreeClassifier(max_depth=4, criterion='gini')\n",
    "model.fit(X_train, y_train)\n",
    "\n",
    "mfi = model.feature_importances_"
   ]
  },
  {
   "cell_type": "code",
   "execution_count": 15,
   "metadata": {},
   "outputs": [],
   "source": [
    "# Predicting the Test set results\n",
    "y_pred = model.predict(X_test)\n",
    "y_pred_pros = model.predict_proba(X_test)"
   ]
  },
  {
   "cell_type": "code",
   "execution_count": 16,
   "metadata": {},
   "outputs": [
    {
     "data": {
      "image/png": "[encoded data removed]",
      "text/plain": [
       "<Figure size 640x480 with 2 Axes>"
      ]
     },
     "metadata": {},
     "output_type": "display_data"
    },
    {
     "name": "stdout",
     "output_type": "stream",
     "text": [
      "Accuracy score: 0.7957317073170732\n"
     ]
    }
   ],
   "source": [
    "# Making the Confusion Matrix and accuracy_score\n",
    "cm = confusion_matrix(y_test, y_pred)\n",
    "\n",
    "ax = plt.axes()\n",
    "sns.heatmap(cm, annot=True, fmt='g', ax=ax)\n",
    "ax.set_title(\"DT\")\n",
    "plt.show()\n",
    "\n",
    "# Calculate accuracy score\n",
    "score = accuracy_score(y_test, y_pred)\n",
    "print(f\"Accuracy score: {score}\")"
   ]
  },
  {
   "cell_type": "code",
   "execution_count": 27,
   "metadata": {},
   "outputs": [
    {
     "ename": "ValueError",
     "evalue": "Length of feature_names, 1312 does not match number of features, 4",
     "output_type": "error",
     "traceback": [
      "\u001b[0;31m---------------------------------------------------------------------------\u001b[0m",
      "\u001b[0;31mValueError\u001b[0m                                Traceback (most recent call last)",
      "\u001b[1;32mc:\\Users\\Koulu\\Documents\\Repot\\data-analyysi\\homework\\viikko8\\t3.ipynb Cell 8\u001b[0m line \u001b[0;36m2\n\u001b[1;32m      <a href='vscode-notebook-cell:/c%3A/Users/Koulu/Documents/Repot/data-analyysi/homework/viikko8/t3.ipynb#X10sZmlsZQ%3D%3D?line=0'>1</a>\u001b[0m \u001b[39m# Create dot file for graphviz visualization\u001b[39;00m\n\u001b[0;32m----> <a href='vscode-notebook-cell:/c%3A/Users/Koulu/Documents/Repot/data-analyysi/homework/viikko8/t3.ipynb#X10sZmlsZQ%3D%3D?line=1'>2</a>\u001b[0m dot_data \u001b[39m=\u001b[39m export_graphviz(\n\u001b[1;32m      <a href='vscode-notebook-cell:/c%3A/Users/Koulu/Documents/Repot/data-analyysi/homework/viikko8/t3.ipynb#X10sZmlsZQ%3D%3D?line=2'>3</a>\u001b[0m             model,\n\u001b[1;32m      <a href='vscode-notebook-cell:/c%3A/Users/Koulu/Documents/Repot/data-analyysi/homework/viikko8/t3.ipynb#X10sZmlsZQ%3D%3D?line=3'>4</a>\u001b[0m             out_file \u001b[39m=\u001b[39;49m  \u001b[39mNone\u001b[39;49;00m,\n\u001b[1;32m      <a href='vscode-notebook-cell:/c%3A/Users/Koulu/Documents/Repot/data-analyysi/homework/viikko8/t3.ipynb#X10sZmlsZQ%3D%3D?line=4'>5</a>\u001b[0m             feature_names \u001b[39m=\u001b[39;49m ct\u001b[39m.\u001b[39;49mtransform(X),\n\u001b[1;32m      <a href='vscode-notebook-cell:/c%3A/Users/Koulu/Documents/Repot/data-analyysi/homework/viikko8/t3.ipynb#X10sZmlsZQ%3D%3D?line=5'>6</a>\u001b[0m             class_names \u001b[39m=\u001b[39;49m df[\u001b[39m'\u001b[39;49m\u001b[39mSurvived\u001b[39;49m\u001b[39m'\u001b[39;49m]\u001b[39m.\u001b[39;49munique(),\n\u001b[1;32m      <a href='vscode-notebook-cell:/c%3A/Users/Koulu/Documents/Repot/data-analyysi/homework/viikko8/t3.ipynb#X10sZmlsZQ%3D%3D?line=6'>7</a>\u001b[0m             filled \u001b[39m=\u001b[39;49m \u001b[39mTrue\u001b[39;49;00m,\n\u001b[1;32m      <a href='vscode-notebook-cell:/c%3A/Users/Koulu/Documents/Repot/data-analyysi/homework/viikko8/t3.ipynb#X10sZmlsZQ%3D%3D?line=7'>8</a>\u001b[0m             rounded \u001b[39m=\u001b[39;49m \u001b[39mTrue\u001b[39;49;00m)\n\u001b[1;32m     <a href='vscode-notebook-cell:/c%3A/Users/Koulu/Documents/Repot/data-analyysi/homework/viikko8/t3.ipynb#X10sZmlsZQ%3D%3D?line=9'>10</a>\u001b[0m graph \u001b[39m=\u001b[39m graphviz\u001b[39m.\u001b[39mSource(dot_data)\n\u001b[1;32m     <a href='vscode-notebook-cell:/c%3A/Users/Koulu/Documents/Repot/data-analyysi/homework/viikko8/t3.ipynb#X10sZmlsZQ%3D%3D?line=10'>11</a>\u001b[0m graph\u001b[39m.\u001b[39mrender(\u001b[39m'\u001b[39m\u001b[39m./work/viikko8/titanic\u001b[39m\u001b[39m'\u001b[39m)\n",
      "File \u001b[0;32m/opt/conda/lib/python3.11/site-packages/sklearn/utils/_param_validation.py:211\u001b[0m, in \u001b[0;36mvalidate_params.<locals>.decorator.<locals>.wrapper\u001b[0;34m(*args, **kwargs)\u001b[0m\n\u001b[1;32m    205\u001b[0m \u001b[39mtry\u001b[39;00m:\n\u001b[1;32m    206\u001b[0m     \u001b[39mwith\u001b[39;00m config_context(\n\u001b[1;32m    207\u001b[0m         skip_parameter_validation\u001b[39m=\u001b[39m(\n\u001b[1;32m    208\u001b[0m             prefer_skip_nested_validation \u001b[39mor\u001b[39;00m global_skip_validation\n\u001b[1;32m    209\u001b[0m         )\n\u001b[1;32m    210\u001b[0m     ):\n\u001b[0;32m--> 211\u001b[0m         \u001b[39mreturn\u001b[39;00m func(\u001b[39m*\u001b[39;49margs, \u001b[39m*\u001b[39;49m\u001b[39m*\u001b[39;49mkwargs)\n\u001b[1;32m    212\u001b[0m \u001b[39mexcept\u001b[39;00m InvalidParameterError \u001b[39mas\u001b[39;00m e:\n\u001b[1;32m    213\u001b[0m     \u001b[39m# When the function is just a wrapper around an estimator, we allow\u001b[39;00m\n\u001b[1;32m    214\u001b[0m     \u001b[39m# the function to delegate validation to the estimator, but we replace\u001b[39;00m\n\u001b[1;32m    215\u001b[0m     \u001b[39m# the name of the estimator by the name of the function in the error\u001b[39;00m\n\u001b[1;32m    216\u001b[0m     \u001b[39m# message to avoid confusion.\u001b[39;00m\n\u001b[1;32m    217\u001b[0m     msg \u001b[39m=\u001b[39m re\u001b[39m.\u001b[39msub(\n\u001b[1;32m    218\u001b[0m         \u001b[39mr\u001b[39m\u001b[39m\"\u001b[39m\u001b[39mparameter of \u001b[39m\u001b[39m\\\u001b[39m\u001b[39mw+ must be\u001b[39m\u001b[39m\"\u001b[39m,\n\u001b[1;32m    219\u001b[0m         \u001b[39mf\u001b[39m\u001b[39m\"\u001b[39m\u001b[39mparameter of \u001b[39m\u001b[39m{\u001b[39;00mfunc\u001b[39m.\u001b[39m\u001b[39m__qualname__\u001b[39m\u001b[39m}\u001b[39;00m\u001b[39m must be\u001b[39m\u001b[39m\"\u001b[39m,\n\u001b[1;32m    220\u001b[0m         \u001b[39mstr\u001b[39m(e),\n\u001b[1;32m    221\u001b[0m     )\n",
      "File \u001b[0;32m/opt/conda/lib/python3.11/site-packages/sklearn/tree/_export.py:905\u001b[0m, in \u001b[0;36mexport_graphviz\u001b[0;34m(decision_tree, out_file, max_depth, feature_names, class_names, label, filled, leaves_parallel, impurity, node_ids, proportion, rotate, rounded, special_characters, precision, fontname)\u001b[0m\n\u001b[1;32m    886\u001b[0m     out_file \u001b[39m=\u001b[39m StringIO()\n\u001b[1;32m    888\u001b[0m exporter \u001b[39m=\u001b[39m _DOTTreeExporter(\n\u001b[1;32m    889\u001b[0m     out_file\u001b[39m=\u001b[39mout_file,\n\u001b[1;32m    890\u001b[0m     max_depth\u001b[39m=\u001b[39mmax_depth,\n\u001b[0;32m   (...)\u001b[0m\n\u001b[1;32m    903\u001b[0m     fontname\u001b[39m=\u001b[39mfontname,\n\u001b[1;32m    904\u001b[0m )\n\u001b[0;32m--> 905\u001b[0m exporter\u001b[39m.\u001b[39;49mexport(decision_tree)\n\u001b[1;32m    907\u001b[0m \u001b[39mif\u001b[39;00m return_string:\n\u001b[1;32m    908\u001b[0m     \u001b[39mreturn\u001b[39;00m exporter\u001b[39m.\u001b[39mout_file\u001b[39m.\u001b[39mgetvalue()\n",
      "File \u001b[0;32m/opt/conda/lib/python3.11/site-packages/sklearn/tree/_export.py:455\u001b[0m, in \u001b[0;36m_DOTTreeExporter.export\u001b[0;34m(self, decision_tree)\u001b[0m\n\u001b[1;32m    453\u001b[0m \u001b[39mif\u001b[39;00m \u001b[39mself\u001b[39m\u001b[39m.\u001b[39mfeature_names \u001b[39mis\u001b[39;00m \u001b[39mnot\u001b[39;00m \u001b[39mNone\u001b[39;00m:\n\u001b[1;32m    454\u001b[0m     \u001b[39mif\u001b[39;00m \u001b[39mlen\u001b[39m(\u001b[39mself\u001b[39m\u001b[39m.\u001b[39mfeature_names) \u001b[39m!=\u001b[39m decision_tree\u001b[39m.\u001b[39mn_features_in_:\n\u001b[0;32m--> 455\u001b[0m         \u001b[39mraise\u001b[39;00m \u001b[39mValueError\u001b[39;00m(\n\u001b[1;32m    456\u001b[0m             \u001b[39m\"\u001b[39m\u001b[39mLength of feature_names, \u001b[39m\u001b[39m%d\u001b[39;00m\u001b[39m does not match number of features, \u001b[39m\u001b[39m%d\u001b[39;00m\u001b[39m\"\u001b[39m\n\u001b[1;32m    457\u001b[0m             \u001b[39m%\u001b[39m (\u001b[39mlen\u001b[39m(\u001b[39mself\u001b[39m\u001b[39m.\u001b[39mfeature_names), decision_tree\u001b[39m.\u001b[39mn_features_in_)\n\u001b[1;32m    458\u001b[0m         )\n\u001b[1;32m    459\u001b[0m \u001b[39m# each part writes to out_file\u001b[39;00m\n\u001b[1;32m    460\u001b[0m \u001b[39mself\u001b[39m\u001b[39m.\u001b[39mhead()\n",
      "\u001b[0;31mValueError\u001b[0m: Length of feature_names, 1312 does not match number of features, 4"
     ]
    }
   ],
   "source": [
    "# Create dot file for graphviz visualization\n",
    "dot_data = export_graphviz(\n",
    "            model,\n",
    "            out_file =  None,\n",
    "            feature_names = ct.transform(X),\n",
    "            class_names = df['Survived'].unique(),\n",
    "            filled = True,\n",
    "            rounded = True)\n",
    "\n",
    "graph = graphviz.Source(dot_data)\n",
    "graph.render('./work/viikko8/titanic')"
   ]
  }
 ],
 "metadata": {
  "kernelspec": {
   "display_name": "Python 3 (ipykernel)",
   "language": "python",
   "name": "python3"
  },
  "language_info": {
   "codemirror_mode": {
    "name": "ipython",
    "version": 3
   },
   "file_extension": ".py",
   "mimetype": "text/x-python",
   "name": "python",
   "nbconvert_exporter": "python",
   "pygments_lexer": "ipython3",
   "version": "3.11.5"
  }
 },
 "nbformat": 4,
 "nbformat_minor": 2
}
