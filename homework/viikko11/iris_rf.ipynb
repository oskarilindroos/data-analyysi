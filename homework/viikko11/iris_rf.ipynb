{
 "cells": [
  {
   "cell_type": "code",
   "execution_count": 1,
   "metadata": {},
   "outputs": [],
   "source": [
    "import pandas as pd\n",
    "from sklearn.model_selection import train_test_split\n",
    "from sklearn.metrics import confusion_matrix, accuracy_score\n",
    "import matplotlib.pyplot as plt\n",
    "import seaborn as sns\n",
    "from sklearn import ensemble\n",
    "\n"
   ]
  },
  {
   "cell_type": "code",
   "execution_count": 2,
   "metadata": {},
   "outputs": [],
   "source": [
    "\n",
    "df = pd.read_csv('./work/viikko11/datasets/iris.csv')\n",
    "\n",
    "# make X and y\n",
    "X = df.iloc[:, 0:4]\n",
    "y = df.loc[:, ['Species']]\n",
    "\n",
    "# Splitting the dataset into the Training set and Test set\n",
    "X_train, X_test, y_train, y_test = train_test_split(X, y, test_size = 0.2, random_state = 0)\n"
   ]
  },
  {
   "cell_type": "code",
   "execution_count": 3,
   "metadata": {},
   "outputs": [
    {
     "name": "stderr",
     "output_type": "stream",
     "text": [
      "/opt/conda/lib/python3.11/site-packages/sklearn/base.py:1151: DataConversionWarning: A column-vector y was passed when a 1d array was expected. Please change the shape of y to (n_samples,), for example using ravel().\n",
      "  return fit_method(estimator, *args, **kwargs)\n"
     ]
    }
   ],
   "source": [
    "\n",
    "# train RandomForestClassifier\n",
    "model = ensemble.RandomForestClassifier(max_depth=6)\n",
    "model.fit(X,y)\n",
    "\n",
    "# Predicting the Test set results\n",
    "y_pred = model.predict(X_test)\n"
   ]
  },
  {
   "cell_type": "code",
   "execution_count": 4,
   "metadata": {},
   "outputs": [
    {
     "data": {
      "image/png": "[encoded data removed]",
      "text/plain": [
       "<Figure size 640x480 with 2 Axes>"
      ]
     },
     "metadata": {},
     "output_type": "display_data"
    },
    {
     "name": "stdout",
     "output_type": "stream",
     "text": [
      "RF acc score: 1.00 \n"
     ]
    }
   ],
   "source": [
    "# make confusion matrix\n",
    "cm = confusion_matrix(y_test, y_pred)\n",
    "sns.heatmap(cm, annot=True)\n",
    "plt.show()\n",
    "\n",
    "# Calculate accuracy score\n",
    "acc = accuracy_score(y_test, y_pred)\n",
    "print (f'RF acc score: {acc:.2f} ')\n"
   ]
  },
  {
   "cell_type": "code",
   "execution_count": 5,
   "metadata": {},
   "outputs": [],
   "source": [
    "\n",
    "# make three test flowers\n",
    "new_flowers = [{'sepal length (cm)':5, 'sepal width (cm)':3.4, 'petal length (cm)':1.5, 'petal width (cm)':0.3},\n",
    "               {'sepal length (cm)':6.5, 'sepal width (cm)':3, 'petal length (cm)':5.5, 'petal width (cm)':2.3},\n",
    "               {'sepal length (cm)':5, 'sepal width (cm)':2.4, 'petal length (cm)':4, 'petal width (cm)':1.74}]\n",
    "new_data = pd.DataFrame(new_flowers)\n",
    "\n",
    "# predict with new data and create dataframe\n",
    "new_y = pd.DataFrame(model.predict(new_data))\n",
    "\n",
    "# apply species information based on the prediction\n",
    "new_y[1] = new_y[0].apply(lambda x: 'setosa' if x == 0  else ('versicolor' if x == 1 else 'virginica'))\n",
    "\n",
    "\n",
    "\n"
   ]
  }
 ],
 "metadata": {
  "kernelspec": {
   "display_name": "Python 3 (ipykernel)",
   "language": "python",
   "name": "python3"
  },
  "language_info": {
   "codemirror_mode": {
    "name": "ipython",
    "version": 3
   },
   "file_extension": ".py",
   "mimetype": "text/x-python",
   "name": "python",
   "nbconvert_exporter": "python",
   "pygments_lexer": "ipython3",
   "version": "3.11.5"
  }
 },
 "nbformat": 4,
 "nbformat_minor": 2
}
