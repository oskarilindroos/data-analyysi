{
 "cells": [
  {
   "cell_type": "code",
   "execution_count": 22,
   "metadata": {},
   "outputs": [],
   "source": [
    "import pandas as pd\n",
    "import numpy as np\n",
    "import matplotlib.pyplot as plt\n",
    "from sklearn.compose import ColumnTransformer\n",
    "from sklearn.preprocessing import OneHotEncoder\n",
    "from sklearn.model_selection import train_test_split\n",
    "from sklearn.preprocessing import StandardScaler\n",
    "from tensorflow.keras.models import Sequential\n",
    "from tensorflow.keras.layers import Dense, Dropout\n",
    "import seaborn as sns\n",
    "import pickle #save encoder\n",
    "from sklearn.metrics import confusion_matrix, accuracy_score\n",
    "from keras.utils import to_categorical\n"
   ]
  },
  {
   "cell_type": "code",
   "execution_count": 23,
   "metadata": {},
   "outputs": [],
   "source": [
    "\n",
    "#read data\n",
    "df = pd.read_csv('./work/viikko11/datasets/iris.csv')\n",
    "\n",
    "# Divide X and y\n",
    "X = df.iloc[:, 0:4]\n",
    "y = df.iloc[:, [4]]\n",
    "y = to_categorical(y)\n"
   ]
  },
  {
   "cell_type": "code",
   "execution_count": 24,
   "metadata": {},
   "outputs": [],
   "source": [
    "\n",
    "# Train and test data 80 % - 20 %\n",
    "X_train, X_test, y_train, y_test = train_test_split(X, y, test_size=0.2, random_state = 0)\n",
    "\n",
    "# Scale X\n",
    "scaler_x = StandardScaler()\n",
    "X_train = scaler_x.fit_transform(X_train)\n",
    "X_test = scaler_x.transform(X_test)\n"
   ]
  },
  {
   "cell_type": "code",
   "execution_count": 25,
   "metadata": {},
   "outputs": [
    {
     "name": "stdout",
     "output_type": "stream",
     "text": [
      "Model: \"sequential_3\"\n",
      "_________________________________________________________________\n",
      " Layer (type)                Output Shape              Param #   \n",
      "=================================================================\n",
      " dense_9 (Dense)             (None, 50)                250       \n",
      "                                                                 \n",
      " dropout (Dropout)           (None, 50)                0         \n",
      "                                                                 \n",
      " dense_10 (Dense)            (None, 25)                1275      \n",
      "                                                                 \n",
      " dense_11 (Dense)            (None, 3)                 78        \n",
      "                                                                 \n",
      "=================================================================\n",
      "Total params: 1603 (6.26 KB)\n",
      "Trainable params: 1603 (6.26 KB)\n",
      "Non-trainable params: 0 (0.00 Byte)\n",
      "_________________________________________________________________\n"
     ]
    },
    {
     "name": "stdout",
     "output_type": "stream",
     "text": [
      "Epoch 1/100\n",
      "4/4 [==============================] - 1s 95ms/step - loss: 1.2377 - accuracy: 0.4083 - val_loss: 0.9569 - val_accuracy: 0.6000\n",
      "Epoch 2/100\n",
      "4/4 [==============================] - 0s 11ms/step - loss: 1.0317 - accuracy: 0.5500 - val_loss: 0.8611 - val_accuracy: 0.6000\n",
      "Epoch 3/100\n",
      "4/4 [==============================] - 0s 11ms/step - loss: 0.8769 - accuracy: 0.6583 - val_loss: 0.7832 - val_accuracy: 0.5667\n",
      "Epoch 4/100\n",
      "4/4 [==============================] - 0s 11ms/step - loss: 0.7799 - accuracy: 0.6333 - val_loss: 0.7227 - val_accuracy: 0.5667\n",
      "Epoch 5/100\n",
      "4/4 [==============================] - 0s 11ms/step - loss: 0.7165 - accuracy: 0.6667 - val_loss: 0.6717 - val_accuracy: 0.5667\n",
      "Epoch 6/100\n",
      "4/4 [==============================] - 0s 18ms/step - loss: 0.6628 - accuracy: 0.6750 - val_loss: 0.6295 - val_accuracy: 0.5667\n",
      "Epoch 7/100\n",
      "4/4 [==============================] - 0s 15ms/step - loss: 0.6050 - accuracy: 0.6833 - val_loss: 0.5938 - val_accuracy: 0.5667\n",
      "Epoch 8/100\n",
      "4/4 [==============================] - 0s 13ms/step - loss: 0.5672 - accuracy: 0.7083 - val_loss: 0.5587 - val_accuracy: 0.5667\n",
      "Epoch 9/100\n",
      "4/4 [==============================] - 0s 13ms/step - loss: 0.5027 - accuracy: 0.7333 - val_loss: 0.5277 - val_accuracy: 0.5667\n",
      "Epoch 10/100\n",
      "4/4 [==============================] - 0s 11ms/step - loss: 0.5248 - accuracy: 0.7333 - val_loss: 0.4988 - val_accuracy: 0.6000\n",
      "Epoch 11/100\n",
      "4/4 [==============================] - 0s 14ms/step - loss: 0.4570 - accuracy: 0.7917 - val_loss: 0.4742 - val_accuracy: 0.7333\n",
      "Epoch 12/100\n",
      "4/4 [==============================] - 0s 16ms/step - loss: 0.4369 - accuracy: 0.8583 - val_loss: 0.4535 - val_accuracy: 0.8000\n",
      "Epoch 13/100\n",
      "4/4 [==============================] - 0s 13ms/step - loss: 0.4060 - accuracy: 0.8333 - val_loss: 0.4368 - val_accuracy: 0.8000\n",
      "Epoch 14/100\n",
      "4/4 [==============================] - 0s 11ms/step - loss: 0.3657 - accuracy: 0.8750 - val_loss: 0.4219 - val_accuracy: 0.8000\n",
      "Epoch 15/100\n",
      "4/4 [==============================] - 0s 12ms/step - loss: 0.3659 - accuracy: 0.8667 - val_loss: 0.4102 - val_accuracy: 0.8000\n",
      "Epoch 16/100\n",
      "4/4 [==============================] - 0s 12ms/step - loss: 0.3445 - accuracy: 0.9000 - val_loss: 0.3980 - val_accuracy: 0.8000\n",
      "Epoch 17/100\n",
      "4/4 [==============================] - 0s 11ms/step - loss: 0.3412 - accuracy: 0.9000 - val_loss: 0.3896 - val_accuracy: 0.8000\n",
      "Epoch 18/100\n",
      "4/4 [==============================] - 0s 11ms/step - loss: 0.3274 - accuracy: 0.8833 - val_loss: 0.3812 - val_accuracy: 0.8000\n",
      "Epoch 19/100\n",
      "4/4 [==============================] - 0s 11ms/step - loss: 0.3374 - accuracy: 0.8750 - val_loss: 0.3744 - val_accuracy: 0.8000\n",
      "Epoch 20/100\n",
      "4/4 [==============================] - 0s 12ms/step - loss: 0.3111 - accuracy: 0.8500 - val_loss: 0.3687 - val_accuracy: 0.8000\n",
      "Epoch 21/100\n",
      "4/4 [==============================] - 0s 13ms/step - loss: 0.3280 - accuracy: 0.8833 - val_loss: 0.3641 - val_accuracy: 0.8000\n",
      "Epoch 22/100\n",
      "4/4 [==============================] - 0s 13ms/step - loss: 0.2990 - accuracy: 0.8667 - val_loss: 0.3581 - val_accuracy: 0.8000\n",
      "Epoch 23/100\n",
      "4/4 [==============================] - 0s 14ms/step - loss: 0.2864 - accuracy: 0.8750 - val_loss: 0.3495 - val_accuracy: 0.8000\n",
      "Epoch 24/100\n",
      "4/4 [==============================] - 0s 11ms/step - loss: 0.3127 - accuracy: 0.8750 - val_loss: 0.3419 - val_accuracy: 0.8000\n",
      "Epoch 25/100\n",
      "4/4 [==============================] - 0s 13ms/step - loss: 0.2829 - accuracy: 0.8583 - val_loss: 0.3364 - val_accuracy: 0.8000\n",
      "Epoch 26/100\n",
      "4/4 [==============================] - 0s 11ms/step - loss: 0.2555 - accuracy: 0.9167 - val_loss: 0.3277 - val_accuracy: 0.7667\n",
      "Epoch 27/100\n",
      "4/4 [==============================] - 0s 13ms/step - loss: 0.2752 - accuracy: 0.9250 - val_loss: 0.3199 - val_accuracy: 0.8000\n",
      "Epoch 28/100\n",
      "4/4 [==============================] - 0s 13ms/step - loss: 0.2624 - accuracy: 0.8917 - val_loss: 0.3157 - val_accuracy: 0.7667\n",
      "Epoch 29/100\n",
      "4/4 [==============================] - 0s 13ms/step - loss: 0.2422 - accuracy: 0.9083 - val_loss: 0.3118 - val_accuracy: 0.7667\n",
      "Epoch 30/100\n",
      "4/4 [==============================] - 0s 13ms/step - loss: 0.2365 - accuracy: 0.9250 - val_loss: 0.3087 - val_accuracy: 0.8000\n",
      "Epoch 31/100\n",
      "4/4 [==============================] - 0s 12ms/step - loss: 0.2402 - accuracy: 0.9000 - val_loss: 0.3044 - val_accuracy: 0.8000\n",
      "Epoch 32/100\n",
      "4/4 [==============================] - 0s 12ms/step - loss: 0.2523 - accuracy: 0.9000 - val_loss: 0.2969 - val_accuracy: 0.7667\n",
      "Epoch 33/100\n",
      "4/4 [==============================] - 0s 12ms/step - loss: 0.2639 - accuracy: 0.8750 - val_loss: 0.2905 - val_accuracy: 0.8000\n",
      "Epoch 34/100\n",
      "4/4 [==============================] - 0s 11ms/step - loss: 0.2392 - accuracy: 0.9083 - val_loss: 0.2860 - val_accuracy: 0.8000\n",
      "Epoch 35/100\n",
      "4/4 [==============================] - 0s 16ms/step - loss: 0.2601 - accuracy: 0.9000 - val_loss: 0.2817 - val_accuracy: 0.8000\n",
      "Epoch 36/100\n",
      "4/4 [==============================] - 0s 13ms/step - loss: 0.2376 - accuracy: 0.9083 - val_loss: 0.2806 - val_accuracy: 0.8333\n",
      "Epoch 37/100\n",
      "4/4 [==============================] - 0s 12ms/step - loss: 0.2245 - accuracy: 0.9250 - val_loss: 0.2767 - val_accuracy: 0.8333\n",
      "Epoch 38/100\n",
      "4/4 [==============================] - 0s 10ms/step - loss: 0.2331 - accuracy: 0.8917 - val_loss: 0.2731 - val_accuracy: 0.8333\n",
      "Epoch 39/100\n",
      "4/4 [==============================] - 0s 11ms/step - loss: 0.1950 - accuracy: 0.9333 - val_loss: 0.2654 - val_accuracy: 0.8333\n",
      "Epoch 40/100\n",
      "4/4 [==============================] - 0s 10ms/step - loss: 0.2149 - accuracy: 0.9333 - val_loss: 0.2572 - val_accuracy: 0.8000\n",
      "Epoch 41/100\n",
      "4/4 [==============================] - 0s 10ms/step - loss: 0.2142 - accuracy: 0.9167 - val_loss: 0.2532 - val_accuracy: 0.8333\n",
      "Epoch 42/100\n",
      "4/4 [==============================] - 0s 12ms/step - loss: 0.2170 - accuracy: 0.9167 - val_loss: 0.2502 - val_accuracy: 0.8667\n",
      "Epoch 43/100\n",
      "4/4 [==============================] - 0s 12ms/step - loss: 0.2023 - accuracy: 0.9250 - val_loss: 0.2500 - val_accuracy: 0.8667\n",
      "Epoch 44/100\n",
      "4/4 [==============================] - 0s 12ms/step - loss: 0.2024 - accuracy: 0.9167 - val_loss: 0.2463 - val_accuracy: 0.8667\n",
      "Epoch 45/100\n",
      "4/4 [==============================] - 0s 11ms/step - loss: 0.2326 - accuracy: 0.9250 - val_loss: 0.2430 - val_accuracy: 0.9000\n",
      "Epoch 46/100\n",
      "4/4 [==============================] - 0s 10ms/step - loss: 0.1944 - accuracy: 0.9417 - val_loss: 0.2390 - val_accuracy: 0.9000\n",
      "Epoch 47/100\n",
      "4/4 [==============================] - 0s 10ms/step - loss: 0.2094 - accuracy: 0.9083 - val_loss: 0.2350 - val_accuracy: 0.9000\n",
      "Epoch 48/100\n",
      "4/4 [==============================] - 0s 10ms/step - loss: 0.1895 - accuracy: 0.9417 - val_loss: 0.2295 - val_accuracy: 0.9000\n",
      "Epoch 49/100\n",
      "4/4 [==============================] - 0s 11ms/step - loss: 0.2017 - accuracy: 0.9167 - val_loss: 0.2236 - val_accuracy: 0.9000\n",
      "Epoch 50/100\n",
      "4/4 [==============================] - 0s 10ms/step - loss: 0.1947 - accuracy: 0.9250 - val_loss: 0.2205 - val_accuracy: 0.8667\n",
      "Epoch 51/100\n",
      "4/4 [==============================] - 0s 13ms/step - loss: 0.1782 - accuracy: 0.9417 - val_loss: 0.2171 - val_accuracy: 0.9000\n",
      "Epoch 52/100\n",
      "4/4 [==============================] - 0s 12ms/step - loss: 0.2314 - accuracy: 0.8833 - val_loss: 0.2156 - val_accuracy: 0.9333\n",
      "Epoch 53/100\n",
      "4/4 [==============================] - 0s 17ms/step - loss: 0.1727 - accuracy: 0.9500 - val_loss: 0.2183 - val_accuracy: 0.9333\n",
      "Epoch 54/100\n",
      "4/4 [==============================] - 0s 11ms/step - loss: 0.1720 - accuracy: 0.9333 - val_loss: 0.2193 - val_accuracy: 0.9000\n",
      "Epoch 55/100\n",
      "4/4 [==============================] - 0s 12ms/step - loss: 0.1680 - accuracy: 0.9417 - val_loss: 0.2134 - val_accuracy: 0.9333\n",
      "Epoch 56/100\n",
      "4/4 [==============================] - 0s 11ms/step - loss: 0.1969 - accuracy: 0.9333 - val_loss: 0.2076 - val_accuracy: 0.9667\n",
      "Epoch 57/100\n",
      "4/4 [==============================] - 0s 11ms/step - loss: 0.1782 - accuracy: 0.9500 - val_loss: 0.2057 - val_accuracy: 0.9667\n",
      "Epoch 58/100\n",
      "4/4 [==============================] - 0s 10ms/step - loss: 0.1900 - accuracy: 0.9417 - val_loss: 0.2050 - val_accuracy: 0.9667\n",
      "Epoch 59/100\n",
      "4/4 [==============================] - 0s 11ms/step - loss: 0.1769 - accuracy: 0.9583 - val_loss: 0.2085 - val_accuracy: 0.9333\n",
      "Epoch 60/100\n",
      "4/4 [==============================] - 0s 17ms/step - loss: 0.1657 - accuracy: 0.9500 - val_loss: 0.2097 - val_accuracy: 0.9333\n",
      "Epoch 61/100\n",
      "4/4 [==============================] - 0s 13ms/step - loss: 0.1889 - accuracy: 0.9250 - val_loss: 0.2085 - val_accuracy: 0.9333\n",
      "Epoch 62/100\n",
      "4/4 [==============================] - 0s 12ms/step - loss: 0.1819 - accuracy: 0.9167 - val_loss: 0.2041 - val_accuracy: 0.9333\n",
      "Epoch 63/100\n",
      "4/4 [==============================] - 0s 11ms/step - loss: 0.1749 - accuracy: 0.9167 - val_loss: 0.1934 - val_accuracy: 0.9667\n",
      "Epoch 64/100\n",
      "4/4 [==============================] - 0s 11ms/step - loss: 0.1741 - accuracy: 0.9333 - val_loss: 0.1850 - val_accuracy: 0.9667\n",
      "Epoch 65/100\n",
      "4/4 [==============================] - 0s 11ms/step - loss: 0.1622 - accuracy: 0.9500 - val_loss: 0.1809 - val_accuracy: 0.9667\n",
      "Epoch 66/100\n",
      "4/4 [==============================] - 0s 12ms/step - loss: 0.1765 - accuracy: 0.9417 - val_loss: 0.1767 - val_accuracy: 0.9667\n",
      "Epoch 67/100\n",
      "4/4 [==============================] - 0s 12ms/step - loss: 0.1699 - accuracy: 0.9417 - val_loss: 0.1739 - val_accuracy: 0.9667\n",
      "Epoch 68/100\n",
      "4/4 [==============================] - 0s 12ms/step - loss: 0.1715 - accuracy: 0.9250 - val_loss: 0.1728 - val_accuracy: 0.9667\n",
      "Epoch 69/100\n",
      "4/4 [==============================] - 0s 11ms/step - loss: 0.1319 - accuracy: 0.9583 - val_loss: 0.1706 - val_accuracy: 0.9667\n",
      "Epoch 70/100\n",
      "4/4 [==============================] - 0s 11ms/step - loss: 0.1479 - accuracy: 0.9583 - val_loss: 0.1680 - val_accuracy: 0.9667\n",
      "Epoch 71/100\n",
      "4/4 [==============================] - 0s 14ms/step - loss: 0.1499 - accuracy: 0.9583 - val_loss: 0.1647 - val_accuracy: 0.9667\n",
      "Epoch 72/100\n",
      "4/4 [==============================] - 0s 11ms/step - loss: 0.1620 - accuracy: 0.9500 - val_loss: 0.1619 - val_accuracy: 0.9667\n",
      "Epoch 73/100\n",
      "4/4 [==============================] - 0s 11ms/step - loss: 0.1603 - accuracy: 0.9167 - val_loss: 0.1617 - val_accuracy: 0.9667\n",
      "Epoch 74/100\n",
      "4/4 [==============================] - 0s 11ms/step - loss: 0.1559 - accuracy: 0.9500 - val_loss: 0.1618 - val_accuracy: 0.9667\n",
      "Epoch 75/100\n",
      "4/4 [==============================] - 0s 13ms/step - loss: 0.1512 - accuracy: 0.9583 - val_loss: 0.1641 - val_accuracy: 0.9667\n",
      "Epoch 76/100\n",
      "4/4 [==============================] - 0s 12ms/step - loss: 0.1499 - accuracy: 0.9500 - val_loss: 0.1658 - val_accuracy: 0.9667\n",
      "Epoch 77/100\n",
      "4/4 [==============================] - 0s 10ms/step - loss: 0.1638 - accuracy: 0.9250 - val_loss: 0.1644 - val_accuracy: 0.9667\n",
      "Epoch 78/100\n",
      "4/4 [==============================] - 0s 11ms/step - loss: 0.1509 - accuracy: 0.9500 - val_loss: 0.1624 - val_accuracy: 0.9667\n",
      "Epoch 79/100\n",
      "4/4 [==============================] - 0s 12ms/step - loss: 0.1491 - accuracy: 0.9417 - val_loss: 0.1602 - val_accuracy: 0.9667\n",
      "Epoch 80/100\n",
      "4/4 [==============================] - 0s 10ms/step - loss: 0.1449 - accuracy: 0.9417 - val_loss: 0.1565 - val_accuracy: 0.9667\n",
      "Epoch 81/100\n",
      "4/4 [==============================] - 0s 11ms/step - loss: 0.1448 - accuracy: 0.9500 - val_loss: 0.1504 - val_accuracy: 0.9667\n",
      "Epoch 82/100\n",
      "4/4 [==============================] - 0s 11ms/step - loss: 0.1341 - accuracy: 0.9500 - val_loss: 0.1455 - val_accuracy: 0.9667\n",
      "Epoch 83/100\n",
      "4/4 [==============================] - 0s 11ms/step - loss: 0.1292 - accuracy: 0.9583 - val_loss: 0.1423 - val_accuracy: 0.9667\n",
      "Epoch 84/100\n",
      "4/4 [==============================] - 0s 11ms/step - loss: 0.1438 - accuracy: 0.9500 - val_loss: 0.1390 - val_accuracy: 0.9667\n",
      "Epoch 85/100\n",
      "4/4 [==============================] - 0s 12ms/step - loss: 0.1383 - accuracy: 0.9583 - val_loss: 0.1379 - val_accuracy: 0.9667\n",
      "Epoch 86/100\n",
      "4/4 [==============================] - 0s 17ms/step - loss: 0.1024 - accuracy: 0.9667 - val_loss: 0.1386 - val_accuracy: 0.9667\n",
      "Epoch 87/100\n",
      "4/4 [==============================] - 0s 12ms/step - loss: 0.1021 - accuracy: 0.9667 - val_loss: 0.1358 - val_accuracy: 0.9667\n",
      "Epoch 88/100\n",
      "4/4 [==============================] - 0s 14ms/step - loss: 0.1312 - accuracy: 0.9500 - val_loss: 0.1295 - val_accuracy: 0.9667\n",
      "Epoch 89/100\n",
      "4/4 [==============================] - 0s 12ms/step - loss: 0.1207 - accuracy: 0.9500 - val_loss: 0.1266 - val_accuracy: 0.9667\n",
      "Epoch 90/100\n",
      "4/4 [==============================] - 0s 12ms/step - loss: 0.1371 - accuracy: 0.9500 - val_loss: 0.1251 - val_accuracy: 0.9667\n",
      "Epoch 91/100\n",
      "4/4 [==============================] - 0s 12ms/step - loss: 0.1351 - accuracy: 0.9500 - val_loss: 0.1262 - val_accuracy: 0.9667\n",
      "Epoch 92/100\n",
      "4/4 [==============================] - 0s 11ms/step - loss: 0.0932 - accuracy: 0.9667 - val_loss: 0.1245 - val_accuracy: 0.9667\n",
      "Epoch 93/100\n",
      "4/4 [==============================] - 0s 13ms/step - loss: 0.1252 - accuracy: 0.9417 - val_loss: 0.1244 - val_accuracy: 0.9667\n",
      "Epoch 94/100\n",
      "4/4 [==============================] - 0s 11ms/step - loss: 0.1232 - accuracy: 0.9667 - val_loss: 0.1215 - val_accuracy: 0.9667\n",
      "Epoch 95/100\n",
      "4/4 [==============================] - 0s 12ms/step - loss: 0.1032 - accuracy: 0.9583 - val_loss: 0.1189 - val_accuracy: 0.9667\n",
      "Epoch 96/100\n",
      "4/4 [==============================] - 0s 13ms/step - loss: 0.1170 - accuracy: 0.9583 - val_loss: 0.1172 - val_accuracy: 0.9333\n",
      "Epoch 97/100\n",
      "4/4 [==============================] - 0s 12ms/step - loss: 0.1499 - accuracy: 0.9333 - val_loss: 0.1146 - val_accuracy: 0.9667\n",
      "Epoch 98/100\n",
      "4/4 [==============================] - 0s 15ms/step - loss: 0.0943 - accuracy: 0.9667 - val_loss: 0.1112 - val_accuracy: 0.9667\n",
      "Epoch 99/100\n",
      "4/4 [==============================] - 0s 12ms/step - loss: 0.1356 - accuracy: 0.9417 - val_loss: 0.1098 - val_accuracy: 0.9667\n",
      "Epoch 100/100\n",
      "4/4 [==============================] - 0s 11ms/step - loss: 0.1088 - accuracy: 0.9667 - val_loss: 0.1088 - val_accuracy: 0.9667\n"
     ]
    }
   ],
   "source": [
    "# Build and train ANN\n",
    "model = Sequential()\n",
    "model.add(Dense(50, input_dim=X.shape[1], kernel_initializer='he_uniform', activation='relu')) # 4 size input layer, 50 size first hidden layer\n",
    "model.add(Dropout(0.2)) # 20% dropout\n",
    "model.add(Dense(25, activation='relu')) # 25 size second hidden layer\n",
    "model.add(Dense(3, activation='softmax')) # 3 size output layer\n",
    "model.summary()\n",
    "model.compile(loss='categorical_crossentropy', optimizer='adam', metrics=['accuracy'])\n",
    "history = model.fit(X_train, y_train, epochs=100, batch_size=32,  verbose=1, validation_data=(X_test,y_test))\n"
   ]
  },
  {
   "cell_type": "code",
   "execution_count": 26,
   "metadata": {},
   "outputs": [
    {
     "name": "stdout",
     "output_type": "stream",
     "text": [
      "dict_keys(['loss', 'accuracy', 'val_loss', 'val_accuracy'])\n"
     ]
    },
    {
     "data": {
      "image/png": "[encoded data removed]",
      "text/plain": [
       "<Figure size 640x480 with 1 Axes>"
      ]
     },
     "metadata": {},
     "output_type": "display_data"
    },
    {
     "name": "stdout",
     "output_type": "stream",
     "text": [
      "1/1 [==============================] - 0s 24ms/step - loss: 0.1088 - accuracy: 0.9667\n",
      "\n",
      "Test results - Loss: 0.10878191888332367 - Accuracy: 96.66666388511658%\n"
     ]
    }
   ],
   "source": [
    "# visualize training\n",
    "print(history.history.keys())\n",
    "# \"Loss\"\n",
    "plt.plot(history.history['loss'])\n",
    "plt.plot(history.history['val_loss'])\n",
    "plt.title('model loss')\n",
    "plt.ylabel('loss')\n",
    "plt.xlabel('epoch')\n",
    "plt.legend(['train', 'validation'], loc='upper left')\n",
    "plt.show()\n",
    "\n",
    "test_results = model.evaluate(X_test, y_test, verbose=1)\n",
    "print(f'\\nTest results - Loss: {test_results[0]} - Accuracy: {test_results[1]*100}%')\n"
   ]
  },
  {
   "cell_type": "code",
   "execution_count": 27,
   "metadata": {},
   "outputs": [
    {
     "name": "stdout",
     "output_type": "stream",
     "text": [
      "1/1 [==============================] - 0s 54ms/step\n"
     ]
    }
   ],
   "source": [
    "# Predict with test data\n",
    "y_pred_proba = model.predict(X_test)\n",
    "y_pred = y_pred_proba.argmax(axis=1)\n",
    "y_test = y_test.argmax(axis=1)\n"
   ]
  },
  {
   "cell_type": "code",
   "execution_count": 28,
   "metadata": {},
   "outputs": [
    {
     "name": "stdout",
     "output_type": "stream",
     "text": [
      "[[11  0  0]\n",
      " [ 0 13  0]\n",
      " [ 0  1  5]]\n"
     ]
    },
    {
     "data": {
      "image/png": "[encoded data removed]",
      "text/plain": [
       "<Figure size 640x480 with 2 Axes>"
      ]
     },
     "metadata": {},
     "output_type": "display_data"
    }
   ],
   "source": [
    "# Confusion Matrix and metrics\n",
    "cm = confusion_matrix(y_test, y_pred)\n",
    "print(cm)\n",
    "\n",
    "sns.heatmap(cm, annot=True, fmt='g')\n",
    "plt.show()"
   ]
  }
 ],
 "metadata": {
  "kernelspec": {
   "display_name": "Python 3 (ipykernel)",
   "language": "python",
   "name": "python3"
  },
  "language_info": {
   "codemirror_mode": {
    "name": "ipython",
    "version": 3
   },
   "file_extension": ".py",
   "mimetype": "text/x-python",
   "name": "python",
   "nbconvert_exporter": "python",
   "pygments_lexer": "ipython3",
   "version": "3.11.5"
  }
 },
 "nbformat": 4,
 "nbformat_minor": 2
}
