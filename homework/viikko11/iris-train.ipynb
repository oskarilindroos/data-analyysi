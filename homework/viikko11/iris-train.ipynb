{
 "cells": [
  {
   "cell_type": "code",
   "execution_count": 23,
   "metadata": {},
   "outputs": [],
   "source": [
    "import pandas as pd\n",
    "import numpy as np\n",
    "import matplotlib.pyplot as plt\n",
    "from sklearn.compose import ColumnTransformer\n",
    "from sklearn.preprocessing import OneHotEncoder\n",
    "from sklearn.model_selection import train_test_split\n",
    "from sklearn.preprocessing import StandardScaler\n",
    "from tensorflow.keras.models import Sequential\n",
    "from tensorflow.keras.layers import Dense, Dropout\n",
    "import seaborn as sns\n",
    "import pickle #save encoder\n",
    "from sklearn.metrics import confusion_matrix, accuracy_score\n",
    "from keras.utils import to_categorical\n"
   ]
  },
  {
   "cell_type": "code",
   "execution_count": 24,
   "metadata": {},
   "outputs": [],
   "source": [
    "\n",
    "#read data\n",
    "df = pd.read_csv('./work/viikko11/datasets/iris.csv')\n",
    "\n",
    "# Divide X and y\n",
    "X = df.iloc[:, 0:4]\n",
    "y = df.iloc[:, [4]]\n",
    "y = to_categorical(y)\n"
   ]
  },
  {
   "cell_type": "code",
   "execution_count": 25,
   "metadata": {},
   "outputs": [],
   "source": [
    "\n",
    "# Train and test data 80 % - 20 %\n",
    "X_train, X_test, y_train, y_test = train_test_split(X, y, test_size=0.2, random_state = 0)\n",
    "\n",
    "# Scale X\n",
    "scaler_x = StandardScaler()\n",
    "X_train = scaler_x.fit_transform(X_train)\n",
    "X_test = scaler_x.transform(X_test)\n"
   ]
  },
  {
   "cell_type": "code",
   "execution_count": 26,
   "metadata": {},
   "outputs": [
    {
     "name": "stdout",
     "output_type": "stream",
     "text": [
      "Model: \"sequential_4\"\n",
      "_________________________________________________________________\n",
      " Layer (type)                Output Shape              Param #   \n",
      "=================================================================\n",
      " dense_12 (Dense)            (None, 50)                250       \n",
      "                                                                 \n",
      " dense_13 (Dense)            (None, 25)                1275      \n",
      "                                                                 \n",
      " dense_14 (Dense)            (None, 3)                 78        \n",
      "                                                                 \n",
      "=================================================================\n",
      "Total params: 1603 (6.26 KB)\n"
     ]
    },
    {
     "name": "stdout",
     "output_type": "stream",
     "text": [
      "Trainable params: 1603 (6.26 KB)\n",
      "Non-trainable params: 0 (0.00 Byte)\n",
      "_________________________________________________________________\n",
      "Epoch 1/100\n",
      "4/4 [==============================] - 2s 126ms/step - loss: 1.8087 - accuracy: 0.1750 - val_loss: 1.6187 - val_accuracy: 0.3000\n",
      "Epoch 2/100\n",
      "4/4 [==============================] - 0s 24ms/step - loss: 1.5324 - accuracy: 0.2250 - val_loss: 1.4183 - val_accuracy: 0.3000\n",
      "Epoch 3/100\n",
      "4/4 [==============================] - 0s 26ms/step - loss: 1.2800 - accuracy: 0.3750 - val_loss: 1.2448 - val_accuracy: 0.3333\n",
      "Epoch 4/100\n",
      "4/4 [==============================] - 0s 20ms/step - loss: 1.0639 - accuracy: 0.4667 - val_loss: 1.0972 - val_accuracy: 0.2667\n",
      "Epoch 5/100\n",
      "4/4 [==============================] - 0s 22ms/step - loss: 0.8953 - accuracy: 0.4833 - val_loss: 0.9689 - val_accuracy: 0.3000\n",
      "Epoch 6/100\n",
      "4/4 [==============================] - 0s 22ms/step - loss: 0.7532 - accuracy: 0.6917 - val_loss: 0.8602 - val_accuracy: 0.6000\n",
      "Epoch 7/100\n",
      "4/4 [==============================] - 0s 28ms/step - loss: 0.6508 - accuracy: 0.8250 - val_loss: 0.7733 - val_accuracy: 0.7000\n",
      "Epoch 8/100\n",
      "4/4 [==============================] - 0s 31ms/step - loss: 0.5695 - accuracy: 0.8083 - val_loss: 0.7026 - val_accuracy: 0.7000\n",
      "Epoch 9/100\n",
      "4/4 [==============================] - 0s 29ms/step - loss: 0.5104 - accuracy: 0.8167 - val_loss: 0.6445 - val_accuracy: 0.7000\n",
      "Epoch 10/100\n",
      "4/4 [==============================] - 0s 33ms/step - loss: 0.4627 - accuracy: 0.8250 - val_loss: 0.5946 - val_accuracy: 0.7000\n",
      "Epoch 11/100\n",
      "4/4 [==============================] - 0s 32ms/step - loss: 0.4253 - accuracy: 0.8417 - val_loss: 0.5532 - val_accuracy: 0.7000\n",
      "Epoch 12/100\n",
      "4/4 [==============================] - 0s 29ms/step - loss: 0.3962 - accuracy: 0.8500 - val_loss: 0.5175 - val_accuracy: 0.7000\n",
      "Epoch 13/100\n",
      "4/4 [==============================] - 0s 29ms/step - loss: 0.3741 - accuracy: 0.8500 - val_loss: 0.4889 - val_accuracy: 0.7000\n",
      "Epoch 14/100\n",
      "4/4 [==============================] - 0s 32ms/step - loss: 0.3565 - accuracy: 0.8583 - val_loss: 0.4659 - val_accuracy: 0.7000\n",
      "Epoch 15/100\n",
      "4/4 [==============================] - 0s 81ms/step - loss: 0.3413 - accuracy: 0.8583 - val_loss: 0.4499 - val_accuracy: 0.7000\n",
      "Epoch 16/100\n",
      "4/4 [==============================] - 0s 52ms/step - loss: 0.3277 - accuracy: 0.8583 - val_loss: 0.4351 - val_accuracy: 0.7333\n",
      "Epoch 17/100\n",
      "4/4 [==============================] - 0s 24ms/step - loss: 0.3163 - accuracy: 0.8667 - val_loss: 0.4264 - val_accuracy: 0.7333\n",
      "Epoch 18/100\n",
      "4/4 [==============================] - 0s 27ms/step - loss: 0.3065 - accuracy: 0.8667 - val_loss: 0.4174 - val_accuracy: 0.7333\n",
      "Epoch 19/100\n",
      "4/4 [==============================] - 0s 29ms/step - loss: 0.2972 - accuracy: 0.8667 - val_loss: 0.4094 - val_accuracy: 0.7333\n",
      "Epoch 20/100\n",
      "4/4 [==============================] - 0s 31ms/step - loss: 0.2888 - accuracy: 0.8667 - val_loss: 0.4008 - val_accuracy: 0.7333\n",
      "Epoch 21/100\n",
      "4/4 [==============================] - 0s 30ms/step - loss: 0.2815 - accuracy: 0.8750 - val_loss: 0.3916 - val_accuracy: 0.7333\n",
      "Epoch 22/100\n",
      "4/4 [==============================] - 0s 35ms/step - loss: 0.2735 - accuracy: 0.8750 - val_loss: 0.3851 - val_accuracy: 0.7333\n",
      "Epoch 23/100\n",
      "4/4 [==============================] - 0s 34ms/step - loss: 0.2676 - accuracy: 0.8750 - val_loss: 0.3801 - val_accuracy: 0.7333\n",
      "Epoch 24/100\n",
      "4/4 [==============================] - 0s 37ms/step - loss: 0.2613 - accuracy: 0.8750 - val_loss: 0.3725 - val_accuracy: 0.7333\n",
      "Epoch 25/100\n",
      "4/4 [==============================] - 0s 36ms/step - loss: 0.2557 - accuracy: 0.8917 - val_loss: 0.3610 - val_accuracy: 0.7333\n",
      "Epoch 26/100\n",
      "4/4 [==============================] - 0s 33ms/step - loss: 0.2499 - accuracy: 0.9000 - val_loss: 0.3522 - val_accuracy: 0.7333\n",
      "Epoch 27/100\n",
      "4/4 [==============================] - 0s 35ms/step - loss: 0.2449 - accuracy: 0.9000 - val_loss: 0.3459 - val_accuracy: 0.7333\n",
      "Epoch 28/100\n",
      "4/4 [==============================] - 0s 28ms/step - loss: 0.2402 - accuracy: 0.9083 - val_loss: 0.3402 - val_accuracy: 0.7333\n",
      "Epoch 29/100\n",
      "4/4 [==============================] - 0s 21ms/step - loss: 0.2357 - accuracy: 0.9083 - val_loss: 0.3340 - val_accuracy: 0.7667\n",
      "Epoch 30/100\n",
      "4/4 [==============================] - 0s 25ms/step - loss: 0.2316 - accuracy: 0.9083 - val_loss: 0.3292 - val_accuracy: 0.7667\n",
      "Epoch 31/100\n",
      "4/4 [==============================] - 0s 31ms/step - loss: 0.2275 - accuracy: 0.9167 - val_loss: 0.3255 - val_accuracy: 0.7667\n",
      "Epoch 32/100\n",
      "4/4 [==============================] - 0s 32ms/step - loss: 0.2234 - accuracy: 0.9167 - val_loss: 0.3184 - val_accuracy: 0.7667\n",
      "Epoch 33/100\n",
      "4/4 [==============================] - 0s 41ms/step - loss: 0.2198 - accuracy: 0.9167 - val_loss: 0.3138 - val_accuracy: 0.7667\n",
      "Epoch 34/100\n",
      "4/4 [==============================] - 0s 42ms/step - loss: 0.2162 - accuracy: 0.9250 - val_loss: 0.3078 - val_accuracy: 0.8000\n",
      "Epoch 35/100\n",
      "4/4 [==============================] - 0s 23ms/step - loss: 0.2125 - accuracy: 0.9250 - val_loss: 0.3001 - val_accuracy: 0.8000\n",
      "Epoch 36/100\n",
      "4/4 [==============================] - 0s 22ms/step - loss: 0.2098 - accuracy: 0.9250 - val_loss: 0.2939 - val_accuracy: 0.8000\n",
      "Epoch 37/100\n",
      "4/4 [==============================] - 0s 21ms/step - loss: 0.2058 - accuracy: 0.9250 - val_loss: 0.2942 - val_accuracy: 0.8000\n",
      "Epoch 38/100\n",
      "4/4 [==============================] - 0s 21ms/step - loss: 0.2027 - accuracy: 0.9250 - val_loss: 0.2946 - val_accuracy: 0.8000\n",
      "Epoch 39/100\n",
      "4/4 [==============================] - 0s 23ms/step - loss: 0.1993 - accuracy: 0.9250 - val_loss: 0.2899 - val_accuracy: 0.8000\n",
      "Epoch 40/100\n",
      "4/4 [==============================] - 0s 24ms/step - loss: 0.1961 - accuracy: 0.9250 - val_loss: 0.2855 - val_accuracy: 0.8000\n",
      "Epoch 41/100\n",
      "4/4 [==============================] - 0s 24ms/step - loss: 0.1936 - accuracy: 0.9250 - val_loss: 0.2813 - val_accuracy: 0.8000\n",
      "Epoch 42/100\n",
      "4/4 [==============================] - 0s 25ms/step - loss: 0.1903 - accuracy: 0.9250 - val_loss: 0.2734 - val_accuracy: 0.8333\n",
      "Epoch 43/100\n",
      "4/4 [==============================] - 0s 24ms/step - loss: 0.1877 - accuracy: 0.9417 - val_loss: 0.2661 - val_accuracy: 0.8333\n",
      "Epoch 44/100\n",
      "4/4 [==============================] - 0s 25ms/step - loss: 0.1848 - accuracy: 0.9417 - val_loss: 0.2612 - val_accuracy: 0.8667\n",
      "Epoch 45/100\n",
      "4/4 [==============================] - 0s 24ms/step - loss: 0.1823 - accuracy: 0.9417 - val_loss: 0.2592 - val_accuracy: 0.8667\n",
      "Epoch 46/100\n",
      "4/4 [==============================] - 0s 24ms/step - loss: 0.1794 - accuracy: 0.9417 - val_loss: 0.2538 - val_accuracy: 0.9000\n",
      "Epoch 47/100\n",
      "4/4 [==============================] - 0s 24ms/step - loss: 0.1765 - accuracy: 0.9417 - val_loss: 0.2522 - val_accuracy: 0.9000\n",
      "Epoch 48/100\n",
      "4/4 [==============================] - 0s 24ms/step - loss: 0.1741 - accuracy: 0.9417 - val_loss: 0.2487 - val_accuracy: 0.9000\n",
      "Epoch 49/100\n",
      "4/4 [==============================] - 0s 24ms/step - loss: 0.1716 - accuracy: 0.9417 - val_loss: 0.2457 - val_accuracy: 0.9000\n",
      "Epoch 50/100\n",
      "4/4 [==============================] - 0s 24ms/step - loss: 0.1688 - accuracy: 0.9417 - val_loss: 0.2431 - val_accuracy: 0.9000\n",
      "Epoch 51/100\n",
      "4/4 [==============================] - 0s 24ms/step - loss: 0.1666 - accuracy: 0.9417 - val_loss: 0.2389 - val_accuracy: 0.9000\n",
      "Epoch 52/100\n",
      "4/4 [==============================] - 0s 24ms/step - loss: 0.1647 - accuracy: 0.9417 - val_loss: 0.2314 - val_accuracy: 0.9000\n",
      "Epoch 53/100\n",
      "4/4 [==============================] - 0s 24ms/step - loss: 0.1620 - accuracy: 0.9417 - val_loss: 0.2277 - val_accuracy: 0.9000\n",
      "Epoch 54/100\n",
      "4/4 [==============================] - 0s 28ms/step - loss: 0.1595 - accuracy: 0.9417 - val_loss: 0.2251 - val_accuracy: 0.9000\n",
      "Epoch 55/100\n",
      "4/4 [==============================] - 0s 28ms/step - loss: 0.1575 - accuracy: 0.9417 - val_loss: 0.2222 - val_accuracy: 0.9000\n",
      "Epoch 56/100\n",
      "4/4 [==============================] - 0s 29ms/step - loss: 0.1556 - accuracy: 0.9417 - val_loss: 0.2239 - val_accuracy: 0.9000\n",
      "Epoch 57/100\n",
      "4/4 [==============================] - 0s 27ms/step - loss: 0.1535 - accuracy: 0.9417 - val_loss: 0.2212 - val_accuracy: 0.9000\n",
      "Epoch 58/100\n",
      "4/4 [==============================] - 0s 28ms/step - loss: 0.1509 - accuracy: 0.9500 - val_loss: 0.2138 - val_accuracy: 0.9000\n",
      "Epoch 59/100\n",
      "4/4 [==============================] - 0s 26ms/step - loss: 0.1485 - accuracy: 0.9500 - val_loss: 0.2087 - val_accuracy: 0.9000\n",
      "Epoch 60/100\n",
      "4/4 [==============================] - 0s 27ms/step - loss: 0.1460 - accuracy: 0.9500 - val_loss: 0.2060 - val_accuracy: 0.9000\n",
      "Epoch 61/100\n",
      "4/4 [==============================] - 0s 28ms/step - loss: 0.1440 - accuracy: 0.9500 - val_loss: 0.2027 - val_accuracy: 0.9000\n",
      "Epoch 62/100\n",
      "4/4 [==============================] - 0s 24ms/step - loss: 0.1415 - accuracy: 0.9500 - val_loss: 0.2002 - val_accuracy: 0.9000\n",
      "Epoch 63/100\n",
      "4/4 [==============================] - 0s 24ms/step - loss: 0.1393 - accuracy: 0.9500 - val_loss: 0.1953 - val_accuracy: 0.9000\n",
      "Epoch 64/100\n",
      "4/4 [==============================] - 0s 23ms/step - loss: 0.1375 - accuracy: 0.9500 - val_loss: 0.1932 - val_accuracy: 0.9000\n",
      "Epoch 65/100\n",
      "4/4 [==============================] - 0s 42ms/step - loss: 0.1351 - accuracy: 0.9583 - val_loss: 0.1874 - val_accuracy: 0.9333\n",
      "Epoch 66/100\n",
      "4/4 [==============================] - 0s 20ms/step - loss: 0.1330 - accuracy: 0.9583 - val_loss: 0.1824 - val_accuracy: 0.9333\n",
      "Epoch 67/100\n",
      "4/4 [==============================] - 0s 25ms/step - loss: 0.1312 - accuracy: 0.9583 - val_loss: 0.1787 - val_accuracy: 0.9667\n",
      "Epoch 68/100\n",
      "4/4 [==============================] - 0s 24ms/step - loss: 0.1289 - accuracy: 0.9583 - val_loss: 0.1775 - val_accuracy: 0.9667\n",
      "Epoch 69/100\n",
      "4/4 [==============================] - 0s 27ms/step - loss: 0.1283 - accuracy: 0.9583 - val_loss: 0.1804 - val_accuracy: 0.9333\n",
      "Epoch 70/100\n",
      "4/4 [==============================] - 0s 39ms/step - loss: 0.1254 - accuracy: 0.9667 - val_loss: 0.1791 - val_accuracy: 0.9333\n",
      "Epoch 71/100\n",
      "4/4 [==============================] - 0s 35ms/step - loss: 0.1239 - accuracy: 0.9667 - val_loss: 0.1738 - val_accuracy: 0.9667\n",
      "Epoch 72/100\n",
      "4/4 [==============================] - 0s 31ms/step - loss: 0.1214 - accuracy: 0.9583 - val_loss: 0.1699 - val_accuracy: 0.9667\n",
      "Epoch 73/100\n",
      "4/4 [==============================] - 0s 24ms/step - loss: 0.1197 - accuracy: 0.9583 - val_loss: 0.1653 - val_accuracy: 0.9667\n",
      "Epoch 74/100\n",
      "4/4 [==============================] - 0s 31ms/step - loss: 0.1180 - accuracy: 0.9583 - val_loss: 0.1624 - val_accuracy: 0.9667\n",
      "Epoch 75/100\n",
      "4/4 [==============================] - 0s 30ms/step - loss: 0.1162 - accuracy: 0.9583 - val_loss: 0.1593 - val_accuracy: 0.9667\n",
      "Epoch 76/100\n",
      "4/4 [==============================] - 0s 22ms/step - loss: 0.1148 - accuracy: 0.9583 - val_loss: 0.1559 - val_accuracy: 0.9667\n",
      "Epoch 77/100\n",
      "4/4 [==============================] - 0s 26ms/step - loss: 0.1133 - accuracy: 0.9583 - val_loss: 0.1526 - val_accuracy: 0.9667\n",
      "Epoch 78/100\n",
      "4/4 [==============================] - 0s 22ms/step - loss: 0.1114 - accuracy: 0.9583 - val_loss: 0.1510 - val_accuracy: 0.9667\n",
      "Epoch 79/100\n",
      "4/4 [==============================] - 0s 24ms/step - loss: 0.1098 - accuracy: 0.9667 - val_loss: 0.1501 - val_accuracy: 0.9667\n",
      "Epoch 80/100\n",
      "4/4 [==============================] - 0s 28ms/step - loss: 0.1085 - accuracy: 0.9667 - val_loss: 0.1498 - val_accuracy: 0.9667\n",
      "Epoch 81/100\n",
      "4/4 [==============================] - 0s 47ms/step - loss: 0.1076 - accuracy: 0.9667 - val_loss: 0.1474 - val_accuracy: 0.9667\n",
      "Epoch 82/100\n",
      "4/4 [==============================] - 0s 49ms/step - loss: 0.1057 - accuracy: 0.9667 - val_loss: 0.1429 - val_accuracy: 0.9667\n",
      "Epoch 83/100\n",
      "4/4 [==============================] - 0s 44ms/step - loss: 0.1045 - accuracy: 0.9667 - val_loss: 0.1380 - val_accuracy: 1.0000\n",
      "Epoch 84/100\n",
      "4/4 [==============================] - 0s 22ms/step - loss: 0.1028 - accuracy: 0.9667 - val_loss: 0.1342 - val_accuracy: 1.0000\n",
      "Epoch 85/100\n",
      "4/4 [==============================] - 0s 24ms/step - loss: 0.1019 - accuracy: 0.9667 - val_loss: 0.1318 - val_accuracy: 1.0000\n",
      "Epoch 86/100\n",
      "4/4 [==============================] - 0s 25ms/step - loss: 0.1005 - accuracy: 0.9667 - val_loss: 0.1329 - val_accuracy: 1.0000\n",
      "Epoch 87/100\n",
      "4/4 [==============================] - 0s 46ms/step - loss: 0.0990 - accuracy: 0.9667 - val_loss: 0.1308 - val_accuracy: 1.0000\n",
      "Epoch 88/100\n",
      "4/4 [==============================] - 0s 20ms/step - loss: 0.0976 - accuracy: 0.9667 - val_loss: 0.1289 - val_accuracy: 1.0000\n",
      "Epoch 89/100\n",
      "4/4 [==============================] - 0s 25ms/step - loss: 0.0959 - accuracy: 0.9667 - val_loss: 0.1261 - val_accuracy: 1.0000\n",
      "Epoch 90/100\n",
      "4/4 [==============================] - 0s 26ms/step - loss: 0.0953 - accuracy: 0.9667 - val_loss: 0.1226 - val_accuracy: 1.0000\n",
      "Epoch 91/100\n",
      "4/4 [==============================] - 0s 24ms/step - loss: 0.0936 - accuracy: 0.9667 - val_loss: 0.1210 - val_accuracy: 1.0000\n",
      "Epoch 92/100\n",
      "4/4 [==============================] - 0s 25ms/step - loss: 0.0922 - accuracy: 0.9667 - val_loss: 0.1192 - val_accuracy: 1.0000\n",
      "Epoch 93/100\n",
      "4/4 [==============================] - 0s 25ms/step - loss: 0.0926 - accuracy: 0.9667 - val_loss: 0.1203 - val_accuracy: 1.0000\n",
      "Epoch 94/100\n",
      "4/4 [==============================] - 0s 24ms/step - loss: 0.0901 - accuracy: 0.9667 - val_loss: 0.1175 - val_accuracy: 1.0000\n",
      "Epoch 95/100\n",
      "4/4 [==============================] - 0s 28ms/step - loss: 0.0889 - accuracy: 0.9667 - val_loss: 0.1149 - val_accuracy: 1.0000\n",
      "Epoch 96/100\n",
      "4/4 [==============================] - 0s 23ms/step - loss: 0.0877 - accuracy: 0.9667 - val_loss: 0.1115 - val_accuracy: 1.0000\n",
      "Epoch 97/100\n",
      "4/4 [==============================] - 0s 24ms/step - loss: 0.0868 - accuracy: 0.9667 - val_loss: 0.1086 - val_accuracy: 1.0000\n",
      "Epoch 98/100\n",
      "4/4 [==============================] - 0s 24ms/step - loss: 0.0863 - accuracy: 0.9667 - val_loss: 0.1077 - val_accuracy: 1.0000\n",
      "Epoch 99/100\n",
      "4/4 [==============================] - 0s 25ms/step - loss: 0.0847 - accuracy: 0.9750 - val_loss: 0.1059 - val_accuracy: 1.0000\n",
      "Epoch 100/100\n",
      "4/4 [==============================] - 0s 27ms/step - loss: 0.0837 - accuracy: 0.9750 - val_loss: 0.1042 - val_accuracy: 1.0000\n"
     ]
    }
   ],
   "source": [
    "# Build and train ANN\n",
    "model = Sequential()\n",
    "model.add(Dense(50, input_dim=X.shape[1], kernel_initializer='he_uniform', activation='relu')) # 4 size input layer, 50 size first hidden layer\n",
    "model.add(Dense(25, activation='relu')) # 25 size second hidden layer\n",
    "model.add(Dense(3, activation='softmax')) # 3 size output layer\n",
    "model.summary()\n",
    "model.compile(loss='categorical_crossentropy', optimizer='adam', metrics=['accuracy'])\n",
    "history = model.fit(X_train, y_train, epochs=100, batch_size=32,  verbose=1, validation_data=(X_test,y_test))\n"
   ]
  },
  {
   "cell_type": "code",
   "execution_count": 27,
   "metadata": {},
   "outputs": [
    {
     "name": "stdout",
     "output_type": "stream",
     "text": [
      "dict_keys(['loss', 'accuracy', 'val_loss', 'val_accuracy'])\n"
     ]
    },
    {
     "data": {
      "image/png": "[encoded data removed]",
      "text/plain": [
       "<Figure size 640x480 with 1 Axes>"
      ]
     },
     "metadata": {},
     "output_type": "display_data"
    },
    {
     "name": "stdout",
     "output_type": "stream",
     "text": [
      "1/1 [==============================] - 0s 58ms/step - loss: 0.1042 - accuracy: 1.0000\n",
      "\n",
      "Test results - Loss: 0.10421498864889145 - Accuracy: 100.0%\n"
     ]
    }
   ],
   "source": [
    "# visualize training\n",
    "print(history.history.keys())\n",
    "# \"Loss\"\n",
    "plt.plot(history.history['loss'])\n",
    "plt.plot(history.history['val_loss'])\n",
    "plt.title('model loss')\n",
    "plt.ylabel('loss')\n",
    "plt.xlabel('epoch')\n",
    "plt.legend(['train', 'validation'], loc='upper left')\n",
    "plt.show()\n",
    "\n",
    "test_results = model.evaluate(X_test, y_test, verbose=1)\n",
    "print(f'\\nTest results - Loss: {test_results[0]} - Accuracy: {test_results[1]*100}%')\n"
   ]
  },
  {
   "cell_type": "code",
   "execution_count": 28,
   "metadata": {},
   "outputs": [
    {
     "name": "stdout",
     "output_type": "stream",
     "text": [
      "1/1 [==============================] - 0s 159ms/step\n"
     ]
    }
   ],
   "source": [
    "# Predict with test data\n",
    "y_pred_proba = model.predict(X_test)\n",
    "y_pred = y_pred_proba.argmax(axis=1)\n",
    "y_test = y_test.argmax(axis=1)\n"
   ]
  },
  {
   "cell_type": "code",
   "execution_count": 29,
   "metadata": {},
   "outputs": [
    {
     "name": "stdout",
     "output_type": "stream",
     "text": [
      "[[11  0  0]\n",
      " [ 0 13  0]\n",
      " [ 0  0  6]]\n"
     ]
    },
    {
     "data": {
      "image/png": "[encoded data removed]",
      "text/plain": [
       "<Figure size 640x480 with 2 Axes>"
      ]
     },
     "metadata": {},
     "output_type": "display_data"
    }
   ],
   "source": [
    "# Confusion Matrix and metrics\n",
    "cm = confusion_matrix(y_test, y_pred)\n",
    "print(cm)\n",
    "\n",
    "sns.heatmap(cm, annot=True, fmt='g')\n",
    "plt.show()"
   ]
  }
 ],
 "metadata": {
  "kernelspec": {
   "display_name": "Python 3 (ipykernel)",
   "language": "python",
   "name": "python3"
  },
  "language_info": {
   "codemirror_mode": {
    "name": "ipython",
    "version": 3
   },
   "file_extension": ".py",
   "mimetype": "text/x-python",
   "name": "python",
   "nbconvert_exporter": "python",
   "pygments_lexer": "ipython3",
   "version": "3.11.5"
  }
 },
 "nbformat": 4,
 "nbformat_minor": 2
}
