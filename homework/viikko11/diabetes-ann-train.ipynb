{
 "cells": [
  {
   "cell_type": "code",
   "execution_count": 18,
   "metadata": {},
   "outputs": [],
   "source": [
    "import pandas as pd\n",
    "from tensorflow.keras.models import Sequential\n",
    "from tensorflow.keras.layers import Dense, Dropout\n",
    "from sklearn.model_selection import train_test_split\n",
    "from sklearn.metrics import confusion_matrix, accuracy_score\n",
    "from sklearn.metrics import recall_score, precision_score\n",
    "import matplotlib.pyplot as plt\n",
    "import seaborn as sns\n",
    "from sklearn.preprocessing import StandardScaler, MinMaxScaler\n"
   ]
  },
  {
   "cell_type": "code",
   "execution_count": 19,
   "metadata": {},
   "outputs": [],
   "source": [
    "# Ladataan data CSV tiedostosta\n",
    "df = pd.read_csv('./work/viikko11/datasets/diabetes.csv')\n",
    "\n",
    "# Jaetaan data opetus (X) ja tulos (y) dataan\n",
    "# eli sarakkeet 0-7 opetusdataksi ja sarake 8 tulosdataksi\n",
    "X = df.iloc[:, :-1]\n",
    "y = df.iloc[:, [-1]]\n"
   ]
  },
  {
   "cell_type": "code",
   "execution_count": 20,
   "metadata": {},
   "outputs": [
    {
     "name": "stdout",
     "output_type": "stream",
     "text": [
      "Null values: \n",
      "Pregnancies                 0\n",
      "Glucose                     0\n",
      "BloodPressure               0\n",
      "SkinThickness               0\n",
      "Insulin                     0\n",
      "BMI                         0\n",
      "DiabetesPedigreeFunction    0\n",
      "Age                         0\n",
      "Outcome                     0\n",
      "dtype: int64\n"
     ]
    }
   ],
   "source": [
    "# onko null arvoja\n",
    "print (f'Null values: \\n{df.isnull().sum()}')\n",
    "\n",
    "# muutetaan null nollaksi\n",
    "X = X.fillna(0)\n"
   ]
  },
  {
   "cell_type": "code",
   "execution_count": 21,
   "metadata": {},
   "outputs": [],
   "source": [
    "# Jaetaan data opetus- (80%) ja testi- (20%) datoihin\n",
    "X_train, X_test, y_train, y_test = train_test_split(X, y, test_size = 0.2, random_state = 0)\n",
    "\n",
    "# skalataan data\n",
    "scaler_x = MinMaxScaler()\n",
    "X_train = scaler_x.fit_transform(X_train)\n",
    "X_test = scaler_x.transform(X_test)\n"
   ]
  },
  {
   "cell_type": "code",
   "execution_count": 22,
   "metadata": {},
   "outputs": [
    {
     "name": "stdout",
     "output_type": "stream",
     "text": [
      "Epoch 1/100\n"
     ]
    },
    {
     "name": "stdout",
     "output_type": "stream",
     "text": [
      "20/20 [==============================] - 3s 32ms/step - loss: 0.6868 - accuracy: 0.5863 - val_loss: 0.6552 - val_accuracy: 0.6948\n",
      "Epoch 2/100\n",
      "20/20 [==============================] - 0s 12ms/step - loss: 0.6915 - accuracy: 0.5977 - val_loss: 0.6464 - val_accuracy: 0.6948\n",
      "Epoch 3/100\n",
      "20/20 [==============================] - 0s 10ms/step - loss: 0.6833 - accuracy: 0.6107 - val_loss: 0.6421 - val_accuracy: 0.6948\n",
      "Epoch 4/100\n",
      "20/20 [==============================] - 0s 10ms/step - loss: 0.6739 - accuracy: 0.6319 - val_loss: 0.6380 - val_accuracy: 0.6883\n",
      "Epoch 5/100\n",
      "20/20 [==============================] - 0s 10ms/step - loss: 0.6651 - accuracy: 0.6384 - val_loss: 0.6304 - val_accuracy: 0.6883\n",
      "Epoch 6/100\n",
      "20/20 [==============================] - 0s 11ms/step - loss: 0.6518 - accuracy: 0.6629 - val_loss: 0.6196 - val_accuracy: 0.6883\n",
      "Epoch 7/100\n",
      "20/20 [==============================] - 0s 10ms/step - loss: 0.6425 - accuracy: 0.6531 - val_loss: 0.6099 - val_accuracy: 0.6948\n",
      "Epoch 8/100\n",
      "20/20 [==============================] - 0s 11ms/step - loss: 0.6451 - accuracy: 0.6238 - val_loss: 0.6012 - val_accuracy: 0.7078\n",
      "Epoch 9/100\n",
      "20/20 [==============================] - 0s 11ms/step - loss: 0.6312 - accuracy: 0.6596 - val_loss: 0.5852 - val_accuracy: 0.7013\n",
      "Epoch 10/100\n",
      "20/20 [==============================] - 0s 15ms/step - loss: 0.6343 - accuracy: 0.6629 - val_loss: 0.5796 - val_accuracy: 0.7273\n",
      "Epoch 11/100\n",
      "20/20 [==============================] - 0s 10ms/step - loss: 0.6324 - accuracy: 0.6596 - val_loss: 0.5689 - val_accuracy: 0.7403\n",
      "Epoch 12/100\n",
      "20/20 [==============================] - 0s 14ms/step - loss: 0.6162 - accuracy: 0.6743 - val_loss: 0.5625 - val_accuracy: 0.7468\n",
      "Epoch 13/100\n",
      "20/20 [==============================] - 0s 12ms/step - loss: 0.6194 - accuracy: 0.6726 - val_loss: 0.5503 - val_accuracy: 0.7468\n",
      "Epoch 14/100\n",
      "20/20 [==============================] - 0s 15ms/step - loss: 0.6030 - accuracy: 0.6775 - val_loss: 0.5419 - val_accuracy: 0.7468\n",
      "Epoch 15/100\n",
      "20/20 [==============================] - 0s 15ms/step - loss: 0.5953 - accuracy: 0.6775 - val_loss: 0.5366 - val_accuracy: 0.7532\n",
      "Epoch 16/100\n",
      "20/20 [==============================] - 0s 12ms/step - loss: 0.5836 - accuracy: 0.6889 - val_loss: 0.5283 - val_accuracy: 0.7532\n",
      "Epoch 17/100\n",
      "20/20 [==============================] - 0s 12ms/step - loss: 0.5975 - accuracy: 0.6873 - val_loss: 0.5226 - val_accuracy: 0.7468\n",
      "Epoch 18/100\n",
      "20/20 [==============================] - 0s 11ms/step - loss: 0.5874 - accuracy: 0.6954 - val_loss: 0.5191 - val_accuracy: 0.7597\n",
      "Epoch 19/100\n",
      "20/20 [==============================] - 0s 11ms/step - loss: 0.5771 - accuracy: 0.7182 - val_loss: 0.5156 - val_accuracy: 0.7532\n",
      "Epoch 20/100\n",
      "20/20 [==============================] - 0s 10ms/step - loss: 0.5838 - accuracy: 0.7085 - val_loss: 0.5136 - val_accuracy: 0.7597\n",
      "Epoch 21/100\n",
      "20/20 [==============================] - 0s 14ms/step - loss: 0.5683 - accuracy: 0.7036 - val_loss: 0.5102 - val_accuracy: 0.7597\n",
      "Epoch 22/100\n",
      "20/20 [==============================] - 0s 17ms/step - loss: 0.5544 - accuracy: 0.7296 - val_loss: 0.5063 - val_accuracy: 0.7468\n",
      "Epoch 23/100\n",
      "20/20 [==============================] - 0s 14ms/step - loss: 0.5737 - accuracy: 0.7248 - val_loss: 0.5114 - val_accuracy: 0.7662\n",
      "Epoch 24/100\n",
      "20/20 [==============================] - 0s 14ms/step - loss: 0.5674 - accuracy: 0.7199 - val_loss: 0.5084 - val_accuracy: 0.7662\n",
      "Epoch 25/100\n",
      "20/20 [==============================] - 0s 12ms/step - loss: 0.5506 - accuracy: 0.7166 - val_loss: 0.5017 - val_accuracy: 0.7597\n",
      "Epoch 26/100\n",
      "20/20 [==============================] - 0s 11ms/step - loss: 0.5612 - accuracy: 0.7280 - val_loss: 0.4988 - val_accuracy: 0.7597\n",
      "Epoch 27/100\n",
      "20/20 [==============================] - 0s 11ms/step - loss: 0.5479 - accuracy: 0.7345 - val_loss: 0.4995 - val_accuracy: 0.7597\n",
      "Epoch 28/100\n",
      "20/20 [==============================] - 0s 10ms/step - loss: 0.5595 - accuracy: 0.7085 - val_loss: 0.4961 - val_accuracy: 0.7597\n",
      "Epoch 29/100\n",
      "20/20 [==============================] - 0s 10ms/step - loss: 0.5426 - accuracy: 0.7427 - val_loss: 0.4935 - val_accuracy: 0.7597\n",
      "Epoch 30/100\n",
      "20/20 [==============================] - 0s 11ms/step - loss: 0.5426 - accuracy: 0.7362 - val_loss: 0.4885 - val_accuracy: 0.7792\n",
      "Epoch 31/100\n",
      "20/20 [==============================] - 0s 12ms/step - loss: 0.5449 - accuracy: 0.7231 - val_loss: 0.4876 - val_accuracy: 0.7662\n",
      "Epoch 32/100\n",
      "20/20 [==============================] - 0s 11ms/step - loss: 0.5287 - accuracy: 0.7443 - val_loss: 0.4843 - val_accuracy: 0.7662\n",
      "Epoch 33/100\n",
      "20/20 [==============================] - 0s 12ms/step - loss: 0.5386 - accuracy: 0.7378 - val_loss: 0.4797 - val_accuracy: 0.7662\n",
      "Epoch 34/100\n",
      "20/20 [==============================] - 0s 12ms/step - loss: 0.5408 - accuracy: 0.7362 - val_loss: 0.4794 - val_accuracy: 0.7727\n",
      "Epoch 35/100\n",
      "20/20 [==============================] - 0s 13ms/step - loss: 0.5361 - accuracy: 0.7492 - val_loss: 0.4820 - val_accuracy: 0.7597\n",
      "Epoch 36/100\n",
      "20/20 [==============================] - 0s 23ms/step - loss: 0.5304 - accuracy: 0.7443 - val_loss: 0.4793 - val_accuracy: 0.7792\n",
      "Epoch 37/100\n",
      "20/20 [==============================] - 0s 14ms/step - loss: 0.5304 - accuracy: 0.7622 - val_loss: 0.4795 - val_accuracy: 0.7662\n",
      "Epoch 38/100\n",
      "20/20 [==============================] - 0s 13ms/step - loss: 0.5343 - accuracy: 0.7394 - val_loss: 0.4861 - val_accuracy: 0.7597\n",
      "Epoch 39/100\n",
      "20/20 [==============================] - 0s 12ms/step - loss: 0.5325 - accuracy: 0.7492 - val_loss: 0.4780 - val_accuracy: 0.7662\n",
      "Epoch 40/100\n",
      "20/20 [==============================] - 0s 11ms/step - loss: 0.5287 - accuracy: 0.7378 - val_loss: 0.4766 - val_accuracy: 0.7662\n",
      "Epoch 41/100\n",
      "20/20 [==============================] - 0s 11ms/step - loss: 0.5285 - accuracy: 0.7410 - val_loss: 0.4758 - val_accuracy: 0.7727\n",
      "Epoch 42/100\n",
      "20/20 [==============================] - 0s 15ms/step - loss: 0.5131 - accuracy: 0.7557 - val_loss: 0.4832 - val_accuracy: 0.7662\n",
      "Epoch 43/100\n",
      "20/20 [==============================] - 0s 14ms/step - loss: 0.5220 - accuracy: 0.7394 - val_loss: 0.4772 - val_accuracy: 0.7727\n",
      "Epoch 44/100\n",
      "20/20 [==============================] - 0s 14ms/step - loss: 0.5107 - accuracy: 0.7590 - val_loss: 0.4755 - val_accuracy: 0.7597\n",
      "Epoch 45/100\n",
      "20/20 [==============================] - 0s 13ms/step - loss: 0.5108 - accuracy: 0.7476 - val_loss: 0.4730 - val_accuracy: 0.7662\n",
      "Epoch 46/100\n",
      "20/20 [==============================] - 0s 11ms/step - loss: 0.5175 - accuracy: 0.7557 - val_loss: 0.4770 - val_accuracy: 0.7662\n",
      "Epoch 47/100\n",
      "20/20 [==============================] - 0s 11ms/step - loss: 0.5267 - accuracy: 0.7557 - val_loss: 0.4749 - val_accuracy: 0.7662\n",
      "Epoch 48/100\n",
      "20/20 [==============================] - 0s 14ms/step - loss: 0.5156 - accuracy: 0.7606 - val_loss: 0.4766 - val_accuracy: 0.7662\n",
      "Epoch 49/100\n",
      "20/20 [==============================] - 0s 10ms/step - loss: 0.5054 - accuracy: 0.7866 - val_loss: 0.4734 - val_accuracy: 0.7597\n",
      "Epoch 50/100\n",
      "20/20 [==============================] - 0s 10ms/step - loss: 0.5001 - accuracy: 0.7687 - val_loss: 0.4723 - val_accuracy: 0.7532\n",
      "Epoch 51/100\n",
      "20/20 [==============================] - 0s 11ms/step - loss: 0.5176 - accuracy: 0.7541 - val_loss: 0.4713 - val_accuracy: 0.7662\n",
      "Epoch 52/100\n",
      "20/20 [==============================] - 0s 14ms/step - loss: 0.5264 - accuracy: 0.7638 - val_loss: 0.4679 - val_accuracy: 0.7727\n",
      "Epoch 53/100\n",
      "20/20 [==============================] - 0s 12ms/step - loss: 0.5002 - accuracy: 0.7524 - val_loss: 0.4699 - val_accuracy: 0.7727\n",
      "Epoch 54/100\n",
      "20/20 [==============================] - 0s 12ms/step - loss: 0.5001 - accuracy: 0.7541 - val_loss: 0.4676 - val_accuracy: 0.7662\n",
      "Epoch 55/100\n",
      "20/20 [==============================] - 0s 17ms/step - loss: 0.4960 - accuracy: 0.7638 - val_loss: 0.4702 - val_accuracy: 0.7662\n",
      "Epoch 56/100\n",
      "20/20 [==============================] - 0s 12ms/step - loss: 0.5115 - accuracy: 0.7606 - val_loss: 0.4703 - val_accuracy: 0.7727\n",
      "Epoch 57/100\n",
      "20/20 [==============================] - 0s 11ms/step - loss: 0.5011 - accuracy: 0.7590 - val_loss: 0.4675 - val_accuracy: 0.7857\n",
      "Epoch 58/100\n",
      "20/20 [==============================] - 0s 12ms/step - loss: 0.4920 - accuracy: 0.7736 - val_loss: 0.4687 - val_accuracy: 0.7857\n",
      "Epoch 59/100\n",
      "20/20 [==============================] - 0s 14ms/step - loss: 0.5147 - accuracy: 0.7296 - val_loss: 0.4656 - val_accuracy: 0.7792\n",
      "Epoch 60/100\n",
      "20/20 [==============================] - 0s 11ms/step - loss: 0.4776 - accuracy: 0.7752 - val_loss: 0.4642 - val_accuracy: 0.7792\n",
      "Epoch 61/100\n",
      "20/20 [==============================] - 0s 17ms/step - loss: 0.4856 - accuracy: 0.7704 - val_loss: 0.4650 - val_accuracy: 0.7792\n",
      "Epoch 62/100\n",
      "20/20 [==============================] - 0s 16ms/step - loss: 0.4849 - accuracy: 0.7736 - val_loss: 0.4648 - val_accuracy: 0.7792\n",
      "Epoch 63/100\n",
      "20/20 [==============================] - 0s 12ms/step - loss: 0.4930 - accuracy: 0.7671 - val_loss: 0.4681 - val_accuracy: 0.7792\n",
      "Epoch 64/100\n",
      "20/20 [==============================] - 0s 12ms/step - loss: 0.5075 - accuracy: 0.7492 - val_loss: 0.4691 - val_accuracy: 0.7792\n",
      "Epoch 65/100\n",
      "20/20 [==============================] - 0s 10ms/step - loss: 0.5018 - accuracy: 0.7557 - val_loss: 0.4634 - val_accuracy: 0.7922\n",
      "Epoch 66/100\n",
      "20/20 [==============================] - 0s 11ms/step - loss: 0.4954 - accuracy: 0.7541 - val_loss: 0.4628 - val_accuracy: 0.7792\n",
      "Epoch 67/100\n",
      "20/20 [==============================] - 0s 11ms/step - loss: 0.4928 - accuracy: 0.7655 - val_loss: 0.4651 - val_accuracy: 0.7792\n",
      "Epoch 68/100\n",
      "20/20 [==============================] - 0s 10ms/step - loss: 0.4829 - accuracy: 0.7752 - val_loss: 0.4629 - val_accuracy: 0.7727\n",
      "Epoch 69/100\n",
      "20/20 [==============================] - 0s 11ms/step - loss: 0.4942 - accuracy: 0.7622 - val_loss: 0.4670 - val_accuracy: 0.7727\n",
      "Epoch 70/100\n",
      "20/20 [==============================] - 0s 11ms/step - loss: 0.4758 - accuracy: 0.7785 - val_loss: 0.4662 - val_accuracy: 0.7792\n",
      "Epoch 71/100\n",
      "20/20 [==============================] - 0s 11ms/step - loss: 0.5097 - accuracy: 0.7590 - val_loss: 0.4680 - val_accuracy: 0.7857\n",
      "Epoch 72/100\n",
      "20/20 [==============================] - 0s 11ms/step - loss: 0.4905 - accuracy: 0.7590 - val_loss: 0.4661 - val_accuracy: 0.7857\n",
      "Epoch 73/100\n",
      "20/20 [==============================] - 0s 17ms/step - loss: 0.4834 - accuracy: 0.7671 - val_loss: 0.4678 - val_accuracy: 0.7792\n",
      "Epoch 74/100\n",
      "20/20 [==============================] - 0s 13ms/step - loss: 0.4870 - accuracy: 0.7785 - val_loss: 0.4677 - val_accuracy: 0.7857\n",
      "Epoch 75/100\n",
      "20/20 [==============================] - 0s 12ms/step - loss: 0.4862 - accuracy: 0.7850 - val_loss: 0.4668 - val_accuracy: 0.7857\n",
      "Epoch 76/100\n",
      "20/20 [==============================] - 0s 12ms/step - loss: 0.4896 - accuracy: 0.7590 - val_loss: 0.4671 - val_accuracy: 0.7857\n",
      "Epoch 77/100\n",
      "20/20 [==============================] - 0s 11ms/step - loss: 0.4955 - accuracy: 0.7671 - val_loss: 0.4693 - val_accuracy: 0.7857\n",
      "Epoch 78/100\n",
      "20/20 [==============================] - 0s 11ms/step - loss: 0.4632 - accuracy: 0.7785 - val_loss: 0.4656 - val_accuracy: 0.7987\n",
      "Epoch 79/100\n",
      "20/20 [==============================] - 0s 11ms/step - loss: 0.4743 - accuracy: 0.7801 - val_loss: 0.4632 - val_accuracy: 0.7987\n",
      "Epoch 80/100\n",
      "20/20 [==============================] - 0s 11ms/step - loss: 0.4797 - accuracy: 0.7671 - val_loss: 0.4606 - val_accuracy: 0.7922\n",
      "Epoch 81/100\n",
      "20/20 [==============================] - 0s 12ms/step - loss: 0.4779 - accuracy: 0.7720 - val_loss: 0.4607 - val_accuracy: 0.8052\n",
      "Epoch 82/100\n",
      "20/20 [==============================] - 0s 13ms/step - loss: 0.4846 - accuracy: 0.7541 - val_loss: 0.4631 - val_accuracy: 0.7922\n",
      "Epoch 83/100\n",
      "20/20 [==============================] - 0s 17ms/step - loss: 0.4785 - accuracy: 0.7818 - val_loss: 0.4634 - val_accuracy: 0.7922\n",
      "Epoch 84/100\n",
      "20/20 [==============================] - 0s 17ms/step - loss: 0.4686 - accuracy: 0.7736 - val_loss: 0.4622 - val_accuracy: 0.7987\n",
      "Epoch 85/100\n",
      "20/20 [==============================] - 0s 12ms/step - loss: 0.4986 - accuracy: 0.7606 - val_loss: 0.4592 - val_accuracy: 0.7987\n",
      "Epoch 86/100\n",
      "20/20 [==============================] - 0s 14ms/step - loss: 0.4960 - accuracy: 0.7541 - val_loss: 0.4603 - val_accuracy: 0.7987\n",
      "Epoch 87/100\n",
      "20/20 [==============================] - 0s 10ms/step - loss: 0.4753 - accuracy: 0.7736 - val_loss: 0.4631 - val_accuracy: 0.7792\n",
      "Epoch 88/100\n",
      "20/20 [==============================] - 0s 10ms/step - loss: 0.4767 - accuracy: 0.7899 - val_loss: 0.4624 - val_accuracy: 0.7987\n",
      "Epoch 89/100\n",
      "20/20 [==============================] - 0s 11ms/step - loss: 0.4716 - accuracy: 0.7834 - val_loss: 0.4630 - val_accuracy: 0.7987\n",
      "Epoch 90/100\n",
      "20/20 [==============================] - 0s 11ms/step - loss: 0.4736 - accuracy: 0.7785 - val_loss: 0.4604 - val_accuracy: 0.7857\n",
      "Epoch 91/100\n",
      "20/20 [==============================] - 0s 11ms/step - loss: 0.4839 - accuracy: 0.7638 - val_loss: 0.4642 - val_accuracy: 0.7922\n",
      "Epoch 92/100\n",
      "20/20 [==============================] - 0s 11ms/step - loss: 0.4740 - accuracy: 0.7850 - val_loss: 0.4620 - val_accuracy: 0.7922\n",
      "Epoch 93/100\n",
      "20/20 [==============================] - 0s 13ms/step - loss: 0.4698 - accuracy: 0.7834 - val_loss: 0.4614 - val_accuracy: 0.7922\n",
      "Epoch 94/100\n",
      "20/20 [==============================] - 0s 13ms/step - loss: 0.4503 - accuracy: 0.7899 - val_loss: 0.4631 - val_accuracy: 0.7857\n",
      "Epoch 95/100\n",
      "20/20 [==============================] - 0s 17ms/step - loss: 0.4602 - accuracy: 0.7883 - val_loss: 0.4642 - val_accuracy: 0.7857\n",
      "Epoch 96/100\n",
      "20/20 [==============================] - 0s 12ms/step - loss: 0.4785 - accuracy: 0.7866 - val_loss: 0.4700 - val_accuracy: 0.7727\n",
      "Epoch 97/100\n",
      "20/20 [==============================] - 0s 11ms/step - loss: 0.4768 - accuracy: 0.7785 - val_loss: 0.4648 - val_accuracy: 0.7987\n",
      "Epoch 98/100\n",
      "20/20 [==============================] - 0s 11ms/step - loss: 0.4803 - accuracy: 0.7704 - val_loss: 0.4606 - val_accuracy: 0.7857\n",
      "Epoch 99/100\n",
      "20/20 [==============================] - 0s 10ms/step - loss: 0.4749 - accuracy: 0.7752 - val_loss: 0.4594 - val_accuracy: 0.7922\n",
      "Epoch 100/100\n",
      "20/20 [==============================] - 0s 10ms/step - loss: 0.4622 - accuracy: 0.7785 - val_loss: 0.4583 - val_accuracy: 0.7987\n"
     ]
    }
   ],
   "source": [
    "# Luodaan malli neuroverkolle\n",
    "model = Sequential()\n",
    "model.add(Dense(50, input_dim=X.shape[1], activation='relu', kernel_initializer='he_uniform'))\n",
    "model.add(Dropout(0.3))\n",
    "model.add(Dense(25, activation='relu'))\n",
    "model.add(Dropout(0.3))\n",
    "model.add(Dense(1, activation='sigmoid'))\n",
    "\n",
    "# Käännetään malli opettamista varten\n",
    "model.compile(loss='binary_crossentropy', optimizer='adam', metrics=['accuracy'])\n",
    "# binary_crossentropy\n",
    "# Opetetaan malli datan avulla\n",
    "history=model.fit(X_train, y_train, epochs=100, batch_size=32, validation_data=(X_test,y_test))\n"
   ]
  },
  {
   "cell_type": "code",
   "execution_count": 27,
   "metadata": {},
   "outputs": [
    {
     "data": {
      "image/png": "[encoded data removed]",
      "text/plain": [
       "<Figure size 1000x600 with 1 Axes>"
      ]
     },
     "metadata": {},
     "output_type": "display_data"
    }
   ],
   "source": [
    "\n",
    "# Visualisoidaan mallin oppiminen\n",
    "plt.figure(figsize=(10, 6))\n",
    "plt.plot(history.history['loss'], label='loss')\n",
    "plt.plot(history.history['val_loss'], label='val_loss')\n",
    "plt.legend()\n",
    "plt.ylim(bottom=0, top=5 * min(history.history['val_loss']))\n",
    "plt.show()\n",
    "\n"
   ]
  },
  {
   "cell_type": "code",
   "execution_count": 24,
   "metadata": {},
   "outputs": [
    {
     "name": "stdout",
     "output_type": "stream",
     "text": [
      "5/5 [==============================] - 0s 4ms/step\n"
     ]
    }
   ],
   "source": [
    "\n",
    "# Tehdään testidatalla ennusteet\n",
    "y_pred_proba = model.predict(X_test)\n",
    "y_pred = (y_pred_proba > 0.5)"
   ]
  },
  {
   "cell_type": "code",
   "execution_count": 28,
   "metadata": {},
   "outputs": [
    {
     "name": "stdout",
     "output_type": "stream",
     "text": [
      "cm:\n",
      "[[93 14]\n",
      " [17 30]]\n",
      "accuracy_score: 0.7987012987012987\n",
      "\n",
      "recall_score: 0.6382978723404256\n",
      "\n",
      "precision_score: 0.6818181818181818\n",
      "\n"
     ]
    }
   ],
   "source": [
    "\n",
    "# Tutkitaan mallin metriikoita\n",
    "cm = confusion_matrix(y_test, y_pred)\n",
    "acc = accuracy_score(y_test, y_pred)\n",
    "rs = recall_score(y_test, y_pred)\n",
    "ps = precision_score(y_test, y_pred)\n",
    "\n",
    "print ('cm:')\n",
    "print(cm)\n",
    "print(f'accuracy_score: {acc}\\n')\n",
    "print(f'recall_score: {rs}\\n')\n",
    "print(f'precision_score: {ps}\\n')\n"
   ]
  },
  {
   "cell_type": "code",
   "execution_count": 29,
   "metadata": {},
   "outputs": [
    {
     "data": {
      "image/png": "[encoded data removed]",
      "text/plain": [
       "<Figure size 640x480 with 2 Axes>"
      ]
     },
     "metadata": {},
     "output_type": "display_data"
    }
   ],
   "source": [
    "\n",
    "# Visualivoidaan confusion matrix\n",
    "tn, fp, fn, tp = cm.ravel() # ravel palauttaa litistetyn taulukon\n",
    "ax = plt.axes()\n",
    "sns.heatmap(cm, ax = ax, annot=True, fmt='g')\n",
    "ax.set_title(f'ANN (acc: {acc:.02f}, recall: {rs:.02f}, precision: {ps:.02f})')\n",
    "plt.show()\n"
   ]
  }
 ],
 "metadata": {
  "kernelspec": {
   "display_name": "Python 3 (ipykernel)",
   "language": "python",
   "name": "python3"
  },
  "language_info": {
   "codemirror_mode": {
    "name": "ipython",
    "version": 3
   },
   "file_extension": ".py",
   "mimetype": "text/x-python",
   "name": "python",
   "nbconvert_exporter": "python",
   "pygments_lexer": "ipython3",
   "version": "3.11.5"
  }
 },
 "nbformat": 4,
 "nbformat_minor": 2
}
