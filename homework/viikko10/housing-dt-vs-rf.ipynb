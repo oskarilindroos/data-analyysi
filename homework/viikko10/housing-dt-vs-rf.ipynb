{
 "cells": [
  {
   "cell_type": "code",
   "execution_count": 1,
   "metadata": {},
   "outputs": [],
   "source": [
    "import pandas as pd\n",
    "import numpy as np\n",
    "from sklearn.tree import DecisionTreeRegressor\n",
    "from sklearn.ensemble import RandomForestRegressor\n",
    "from sklearn.model_selection import train_test_split\n",
    "from sklearn.metrics import r2_score, mean_absolute_error, mean_squared_error\n",
    "from sklearn.compose import ColumnTransformer\n",
    "from sklearn.preprocessing import StandardScaler\n",
    "from sklearn.preprocessing import OneHotEncoder\n"
   ]
  },
  {
   "cell_type": "code",
   "execution_count": 2,
   "metadata": {},
   "outputs": [],
   "source": [
    "df = pd.read_csv('./work/viikko10/datasets/housing.csv')"
   ]
  },
  {
   "cell_type": "code",
   "execution_count": 3,
   "metadata": {},
   "outputs": [
    {
     "name": "stdout",
     "output_type": "stream",
     "text": [
      "Null values: longitude               0\n",
      "latitude                0\n",
      "housing_median_age      0\n",
      "total_rooms             0\n",
      "total_bedrooms        207\n",
      "population              0\n",
      "households              0\n",
      "median_income           0\n",
      "median_house_value      0\n",
      "ocean_proximity         0\n",
      "dtype: int64\n"
     ]
    }
   ],
   "source": [
    "print (f'Null values: {df.isnull().sum()}')\n",
    "\n",
    "df['total_bedrooms'] = df['total_bedrooms'].fillna(0) # fill null values to zero\n",
    "\n",
    "X = df.loc[:, ['longitude', 'latitude', 'housing_median_age','total_rooms','total_bedrooms','median_income','ocean_proximity']]\n",
    "# X = df.loc[:, ['housing_median_age','total_rooms','total_bedrooms','median_income','ocean_proximity']]\n",
    "\n",
    "y = df.loc[:, ['median_house_value']]\n",
    "\n",
    "X_org = X # keep the original X"
   ]
  },
  {
   "cell_type": "code",
   "execution_count": 4,
   "metadata": {},
   "outputs": [],
   "source": [
    "# dummy variables (ocean_proximity)\n",
    "ct = ColumnTransformer(transformers=[('encoder', OneHotEncoder(drop='first'), ['ocean_proximity'])], remainder='passthrough')\n",
    "X = ct.fit_transform(X)"
   ]
  },
  {
   "cell_type": "code",
   "execution_count": 5,
   "metadata": {},
   "outputs": [
    {
     "name": "stdout",
     "output_type": "stream",
     "text": [
      "\n",
      "Random Forest:\n",
      "r2 0.8208437991136137\n",
      "mae 31856.30193313953\n",
      "rmse 48333.3845727665\n",
      "\n",
      "Decision Tree:\n",
      "r2 0.7317658771048878\n",
      "mae 40194.18944852705\n",
      "rmse 59140.950238999874\n"
     ]
    }
   ],
   "source": [
    "# Splitting the dataset into the Training set and Test set\n",
    "X_train, X_test, y_train, y_test = train_test_split(X, y, test_size = 0.2, random_state = 0)\n",
    "\n",
    "# data scaling\n",
    "scaler_x = StandardScaler()\n",
    "X_train = scaler_x.fit_transform(X_train) # first time fit_transform then transform\n",
    "X_test = scaler_x.transform(X_test)\n",
    "scaler_y = StandardScaler()\n",
    "y_train  = scaler_y.fit_transform(y_train)\n",
    "\n",
    "\n",
    "def randomForest(n_estimators):\n",
    "    # Training the Random Forest Regression model on the Training set\n",
    "    model_rf = RandomForestRegressor(n_estimators=n_estimators)\n",
    "    model_rf.fit(X_train, y_train.ravel())\n",
    "\n",
    "    # Predicting the Test set results\n",
    "    y_pred_rf = scaler_y.inverse_transform(model_rf.predict(X_test).reshape(-1,1))\n",
    "\n",
    "    # Regression metrics\n",
    "    mae=mean_absolute_error(y_test, y_pred_rf)\n",
    "    r2=r2_score(y_test, y_pred_rf)\n",
    "    mea = mean_squared_error(y_test, y_pred_rf)\n",
    "    rmse = np.sqrt(mea)\n",
    "\n",
    "    return r2, mae, rmse, y_pred_rf\n",
    "\n",
    "def decisionTree(max_depth, min_samples_split):\n",
    "    # Training the Decision Tree Regression model on the Training set\n",
    "    model_dt = DecisionTreeRegressor(max_depth=max_depth, min_samples_split=min_samples_split)\n",
    "    model_dt.fit(X_train, y_train)\n",
    "\n",
    "    # Predicting the Test set results\n",
    "    y_pred_dt = scaler_y.inverse_transform(model_dt.predict(X_test).reshape(-1,1))\n",
    "\n",
    "    # Regression metrics\n",
    "    mae=mean_absolute_error(y_test, y_pred_dt)\n",
    "    r2=r2_score(y_test, y_pred_dt)\n",
    "    mea = mean_squared_error(y_test, y_pred_dt)\n",
    "    rmse = np.sqrt(mea)\n",
    "\n",
    "    return r2, mae, rmse, y_pred_dt\n",
    "\n",
    "r2, mae, rmse, y_pred_rf = randomForest(100)\n",
    "print (f'\\nRandom Forest:\\nr2 {r2}')\n",
    "print (f'mae {mae}')\n",
    "print (f'rmse {rmse}')\n",
    "\n",
    "r2, mae, rmse, y_pred_dt = decisionTree(10,50)\n",
    "print (f'\\nDecision Tree:\\nr2 {r2}')\n",
    "print (f'mae {mae}')\n",
    "print (f'rmse {rmse}')\n",
    "\n"
   ]
  }
 ],
 "metadata": {
  "kernelspec": {
   "display_name": "Python 3 (ipykernel)",
   "language": "python",
   "name": "python3"
  },
  "language_info": {
   "codemirror_mode": {
    "name": "ipython",
    "version": 3
   },
   "file_extension": ".py",
   "mimetype": "text/x-python",
   "name": "python",
   "nbconvert_exporter": "python",
   "pygments_lexer": "ipython3",
   "version": "3.11.5"
  }
 },
 "nbformat": 4,
 "nbformat_minor": 2
}
