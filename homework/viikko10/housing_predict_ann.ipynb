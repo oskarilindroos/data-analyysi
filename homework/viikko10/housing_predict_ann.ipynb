{
 "cells": [
  {
   "cell_type": "code",
   "execution_count": 3,
   "metadata": {},
   "outputs": [],
   "source": [
    "import pandas as pd\n",
    "from tensorflow.keras.models import load_model #load model\n",
    "import pickle #load encoder"
   ]
  },
  {
   "cell_type": "code",
   "execution_count": 4,
   "metadata": {},
   "outputs": [],
   "source": [
    "# load model\n",
    "model = load_model('./work/viikko10/model/housing-ann-model.h5')\n",
    "\n",
    "# load encoder\n",
    "with open('./work/viikko10/model/housing-ann-ct.pickle', 'rb') as f:\n",
    "    ct = pickle.load(f)\n",
    "\n",
    "# load scalers\n",
    "with open('./work/viikko10/model/housing-ann-scaler_x.pickle', 'rb') as f:\n",
    "    scaler_x = pickle.load(f)\n",
    "\n",
    "with open('./work/viikko10/model/housing-ann-scaler_y.pickle', 'rb') as f:\n",
    "    scaler_y = pickle.load(f)"
   ]
  },
  {
   "cell_type": "code",
   "execution_count": 5,
   "metadata": {},
   "outputs": [
    {
     "name": "stdout",
     "output_type": "stream",
     "text": [
      "1/1 [==============================] - 0s 273ms/step\n"
     ]
    }
   ],
   "source": [
    "# ennusta uudella datalla\n",
    "Xnew = pd.read_csv('./work/viikko10/datasets/housing-new.csv')\n",
    "Xnew_org = Xnew\n",
    "Xnew = ct.transform(Xnew)\n",
    "Xnew = scaler_x.transform(Xnew)\n",
    "ynew = model.predict(Xnew)\n",
    "ynew = scaler_y.inverse_transform(ynew)\n",
    "\n",
    "# get scaled value back to unscaled\n",
    "Xnew = scaler_x.inverse_transform(Xnew)\n",
    "\n",
    "ynew = pd.DataFrame(ynew).reindex()\n",
    "ynew.columns = ['predicted_price']\n",
    "df_results = Xnew_org.join(ynew)\n",
    "\n",
    "# tallennetaan ennusteet csv-tiedostoon\n",
    "df_results.to_csv('./work/viikko10/housing-new-ann-with-price.csv', index=False)"
   ]
  }
 ],
 "metadata": {
  "kernelspec": {
   "display_name": "Python 3 (ipykernel)",
   "language": "python",
   "name": "python3"
  },
  "language_info": {
   "codemirror_mode": {
    "name": "ipython",
    "version": 3
   },
   "file_extension": ".py",
   "mimetype": "text/x-python",
   "name": "python",
   "nbconvert_exporter": "python",
   "pygments_lexer": "ipython3",
   "version": "3.11.5"
  }
 },
 "nbformat": 4,
 "nbformat_minor": 2
}
