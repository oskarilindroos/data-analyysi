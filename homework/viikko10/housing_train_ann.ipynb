{
 "cells": [
  {
   "cell_type": "code",
   "execution_count": 31,
   "metadata": {},
   "outputs": [],
   "source": [
    "import numpy as np\n",
    "import matplotlib.pyplot as plt\n",
    "import pandas as pd\n",
    "from sklearn.metrics import mean_absolute_error, r2_score, mean_squared_error\n",
    "from sklearn.model_selection import train_test_split\n",
    "from sklearn.preprocessing import OneHotEncoder\n",
    "from sklearn.compose import ColumnTransformer\n",
    "import pickle #save encoder\n",
    "from sklearn.preprocessing import StandardScaler\n",
    "from tensorflow.keras.models import Sequential\n",
    "from tensorflow.keras.layers import Dense,Dropout"
   ]
  },
  {
   "cell_type": "code",
   "execution_count": 32,
   "metadata": {},
   "outputs": [],
   "source": [
    "df = pd.read_csv('./work/viikko10/datasets/housing.csv')"
   ]
  },
  {
   "cell_type": "code",
   "execution_count": 33,
   "metadata": {},
   "outputs": [],
   "source": [
    "    # longitude\n",
    "    # latitude\n",
    "    # housing_median_age\n",
    "    # total_rooms\n",
    "    # total_bedrooms\n",
    "    # median_income\n",
    "    # ocean_proximity\n",
    "\n",
    "X = df.loc[:, ['longitude', 'latitude', 'housing_median_age','total_rooms','total_bedrooms','median_income', 'ocean_proximity']]\n",
    "y = df.loc[:, ['median_house_value']]"
   ]
  },
  {
   "cell_type": "code",
   "execution_count": 34,
   "metadata": {},
   "outputs": [],
   "source": [
    "X = X.fillna(0)\n",
    "Xorg = X\n",
    "ct = ColumnTransformer(transformers=[('encoder', OneHotEncoder(drop='first'),\n",
    "                                      ['ocean_proximity'])],\n",
    "                       remainder='passthrough')\n",
    "X = ct.fit_transform(X)"
   ]
  },
  {
   "cell_type": "code",
   "execution_count": 35,
   "metadata": {},
   "outputs": [],
   "source": [
    "# Splitting the dataset into the Training set and Test set\n",
    "X_train, X_test, y_train, y_test = train_test_split(X, y, test_size = 0.2,\n",
    "                                                    random_state = 0)"
   ]
  },
  {
   "cell_type": "code",
   "execution_count": 36,
   "metadata": {},
   "outputs": [],
   "source": [
    "# Feature Scaling\n",
    "scaler_x = StandardScaler()\n",
    "X_train = scaler_x.fit_transform(X_train)\n",
    "X_test = scaler_x.transform(X_test)\n",
    "\n",
    "scaler_y = StandardScaler()\n",
    "y_train = scaler_y.fit_transform(y_train)\n",
    "\n",
    "y_test = scaler_y.transform(y_test)"
   ]
  },
  {
   "cell_type": "code",
   "execution_count": 37,
   "metadata": {},
   "outputs": [
    {
     "name": "stdout",
     "output_type": "stream",
     "text": [
      "Epoch 1/50\n",
      "1032/1032 [==============================] - 7s 5ms/step - loss: 0.4329 - mse: 0.4329 - val_loss: 0.3611 - val_mse: 0.3611\n",
      "Epoch 2/50\n",
      "1032/1032 [==============================] - 5s 4ms/step - loss: 0.3762 - mse: 0.3762 - val_loss: 0.4119 - val_mse: 0.4119\n",
      "Epoch 3/50\n",
      "1032/1032 [==============================] - 5s 5ms/step - loss: 0.3896 - mse: 0.3896 - val_loss: 0.3186 - val_mse: 0.3186\n",
      "Epoch 4/50\n",
      "1032/1032 [==============================] - 5s 5ms/step - loss: 0.3445 - mse: 0.3445 - val_loss: 0.3116 - val_mse: 0.3116\n",
      "Epoch 5/50\n",
      "1032/1032 [==============================] - 5s 5ms/step - loss: 0.3384 - mse: 0.3384 - val_loss: 0.3210 - val_mse: 0.3210\n",
      "Epoch 6/50\n",
      "1032/1032 [==============================] - 5s 5ms/step - loss: 0.3297 - mse: 0.3297 - val_loss: 0.3109 - val_mse: 0.3109\n",
      "Epoch 7/50\n",
      "1032/1032 [==============================] - 5s 5ms/step - loss: 0.3251 - mse: 0.3251 - val_loss: 0.3025 - val_mse: 0.3025\n",
      "Epoch 8/50\n",
      "1032/1032 [==============================] - 5s 5ms/step - loss: 0.3221 - mse: 0.3221 - val_loss: 0.2915 - val_mse: 0.2915\n",
      "Epoch 9/50\n",
      "1032/1032 [==============================] - 5s 5ms/step - loss: 0.3143 - mse: 0.3143 - val_loss: 0.2873 - val_mse: 0.2873\n",
      "Epoch 10/50\n",
      "1032/1032 [==============================] - 5s 5ms/step - loss: 0.3120 - mse: 0.3120 - val_loss: 0.3028 - val_mse: 0.3028\n",
      "Epoch 11/50\n",
      "1032/1032 [==============================] - 5s 5ms/step - loss: 0.3130 - mse: 0.3130 - val_loss: 0.2951 - val_mse: 0.2951\n",
      "Epoch 12/50\n",
      "1032/1032 [==============================] - 6s 6ms/step - loss: 0.3111 - mse: 0.3111 - val_loss: 0.2816 - val_mse: 0.2816\n",
      "Epoch 13/50\n",
      "1032/1032 [==============================] - 5s 5ms/step - loss: 0.3083 - mse: 0.3083 - val_loss: 0.2778 - val_mse: 0.2778\n",
      "Epoch 14/50\n",
      "1032/1032 [==============================] - 5s 5ms/step - loss: 0.3013 - mse: 0.3013 - val_loss: 0.2859 - val_mse: 0.2859\n",
      "Epoch 15/50\n",
      "1032/1032 [==============================] - 5s 5ms/step - loss: 0.3008 - mse: 0.3008 - val_loss: 0.2795 - val_mse: 0.2795\n",
      "Epoch 16/50\n",
      "1032/1032 [==============================] - 5s 5ms/step - loss: 0.3031 - mse: 0.3031 - val_loss: 0.2815 - val_mse: 0.2815\n",
      "Epoch 17/50\n",
      "1032/1032 [==============================] - 5s 5ms/step - loss: 0.2976 - mse: 0.2976 - val_loss: 0.2817 - val_mse: 0.2817\n",
      "Epoch 18/50\n",
      "1032/1032 [==============================] - 5s 5ms/step - loss: 0.2983 - mse: 0.2983 - val_loss: 0.2743 - val_mse: 0.2743\n",
      "Epoch 19/50\n",
      "1032/1032 [==============================] - 6s 6ms/step - loss: 0.2971 - mse: 0.2971 - val_loss: 0.2773 - val_mse: 0.2773\n",
      "Epoch 20/50\n",
      "1032/1032 [==============================] - 4s 4ms/step - loss: 0.2978 - mse: 0.2978 - val_loss: 0.2797 - val_mse: 0.2797\n",
      "Epoch 21/50\n",
      "1032/1032 [==============================] - 4s 4ms/step - loss: 0.2974 - mse: 0.2974 - val_loss: 0.2734 - val_mse: 0.2734\n",
      "Epoch 22/50\n",
      "1032/1032 [==============================] - 4s 4ms/step - loss: 0.2944 - mse: 0.2944 - val_loss: 0.2900 - val_mse: 0.2900\n",
      "Epoch 23/50\n",
      "1032/1032 [==============================] - 5s 5ms/step - loss: 0.2898 - mse: 0.2898 - val_loss: 0.2767 - val_mse: 0.2767\n",
      "Epoch 24/50\n",
      "1032/1032 [==============================] - 5s 5ms/step - loss: 0.2922 - mse: 0.2922 - val_loss: 0.2674 - val_mse: 0.2674\n",
      "Epoch 25/50\n",
      "1032/1032 [==============================] - 5s 5ms/step - loss: 0.2889 - mse: 0.2889 - val_loss: 0.2679 - val_mse: 0.2679\n",
      "Epoch 26/50\n",
      "1032/1032 [==============================] - 5s 5ms/step - loss: 0.2915 - mse: 0.2915 - val_loss: 0.2755 - val_mse: 0.2755\n",
      "Epoch 27/50\n",
      "1032/1032 [==============================] - 5s 5ms/step - loss: 0.2881 - mse: 0.2881 - val_loss: 0.2727 - val_mse: 0.2727\n",
      "Epoch 28/50\n",
      "1032/1032 [==============================] - 5s 5ms/step - loss: 0.2866 - mse: 0.2866 - val_loss: 0.2650 - val_mse: 0.2650\n",
      "Epoch 29/50\n",
      "1032/1032 [==============================] - 5s 5ms/step - loss: 0.2870 - mse: 0.2870 - val_loss: 0.2694 - val_mse: 0.2694\n",
      "Epoch 30/50\n",
      "1032/1032 [==============================] - 5s 4ms/step - loss: 0.2832 - mse: 0.2832 - val_loss: 0.2664 - val_mse: 0.2664\n",
      "Epoch 31/50\n",
      "1032/1032 [==============================] - 5s 5ms/step - loss: 0.2843 - mse: 0.2843 - val_loss: 0.2628 - val_mse: 0.2628\n",
      "Epoch 32/50\n",
      "1032/1032 [==============================] - 5s 5ms/step - loss: 0.2819 - mse: 0.2819 - val_loss: 0.2733 - val_mse: 0.2733\n",
      "Epoch 33/50\n",
      "1032/1032 [==============================] - 5s 5ms/step - loss: 0.2798 - mse: 0.2798 - val_loss: 0.2661 - val_mse: 0.2661\n",
      "Epoch 34/50\n",
      "1032/1032 [==============================] - 5s 5ms/step - loss: 0.2815 - mse: 0.2815 - val_loss: 0.2619 - val_mse: 0.2619\n",
      "Epoch 35/50\n",
      "1032/1032 [==============================] - 5s 5ms/step - loss: 0.2814 - mse: 0.2814 - val_loss: 0.2591 - val_mse: 0.2591\n",
      "Epoch 36/50\n",
      "1032/1032 [==============================] - 5s 5ms/step - loss: 0.2782 - mse: 0.2782 - val_loss: 0.2623 - val_mse: 0.2623\n",
      "Epoch 37/50\n",
      "1032/1032 [==============================] - 5s 5ms/step - loss: 0.2790 - mse: 0.2790 - val_loss: 0.2639 - val_mse: 0.2639\n",
      "Epoch 38/50\n",
      "1032/1032 [==============================] - 5s 5ms/step - loss: 0.2774 - mse: 0.2774 - val_loss: 0.2613 - val_mse: 0.2613\n",
      "Epoch 39/50\n",
      "1032/1032 [==============================] - 5s 4ms/step - loss: 0.2774 - mse: 0.2774 - val_loss: 0.2576 - val_mse: 0.2576\n",
      "Epoch 40/50\n",
      "1032/1032 [==============================] - 5s 5ms/step - loss: 0.2776 - mse: 0.2776 - val_loss: 0.2591 - val_mse: 0.2591\n",
      "Epoch 41/50\n",
      "1032/1032 [==============================] - 5s 5ms/step - loss: 0.2781 - mse: 0.2781 - val_loss: 0.2739 - val_mse: 0.2739\n",
      "Epoch 42/50\n",
      "1032/1032 [==============================] - 5s 5ms/step - loss: 0.2785 - mse: 0.2785 - val_loss: 0.2716 - val_mse: 0.2716\n",
      "Epoch 43/50\n",
      "1032/1032 [==============================] - 4s 4ms/step - loss: 0.2739 - mse: 0.2739 - val_loss: 0.2692 - val_mse: 0.2692\n",
      "Epoch 44/50\n",
      "1032/1032 [==============================] - 5s 5ms/step - loss: 0.2732 - mse: 0.2732 - val_loss: 0.2609 - val_mse: 0.2609\n",
      "Epoch 45/50\n",
      "1032/1032 [==============================] - 5s 5ms/step - loss: 0.2739 - mse: 0.2739 - val_loss: 0.2531 - val_mse: 0.2531\n",
      "Epoch 46/50\n",
      "1032/1032 [==============================] - 5s 5ms/step - loss: 0.2725 - mse: 0.2725 - val_loss: 0.2526 - val_mse: 0.2526\n",
      "Epoch 47/50\n",
      "1032/1032 [==============================] - 5s 4ms/step - loss: 0.2725 - mse: 0.2725 - val_loss: 0.2500 - val_mse: 0.2500\n",
      "Epoch 48/50\n",
      "1032/1032 [==============================] - 5s 5ms/step - loss: 0.2722 - mse: 0.2722 - val_loss: 0.2590 - val_mse: 0.2590\n",
      "Epoch 49/50\n",
      "1032/1032 [==============================] - 5s 5ms/step - loss: 0.2716 - mse: 0.2716 - val_loss: 0.2504 - val_mse: 0.2504\n",
      "Epoch 50/50\n",
      "1032/1032 [==============================] - 5s 4ms/step - loss: 0.2710 - mse: 0.2710 - val_loss: 0.2568 - val_mse: 0.2568\n"
     ]
    }
   ],
   "source": [
    "model = Sequential()\n",
    "model.add(Dense(100, input_dim=X.shape[1], activation='relu'))\n",
    "model.add(Dense(1, activation='linear'))\n",
    "model.compile(loss='mse', optimizer='adam', metrics=['mse'])\n",
    "history=model.fit(X_train, y_train, epochs=100, batch_size=16, validation_data=(X_test,y_test))\n",
    "# model = Sequential()\n",
    "# model.add(Dense(100, input_dim=X.shape[1], activation='relu'))\n",
    "# model.add(Dropout(0.15))\n",
    "# model.add(Dense(50, activation='relu'))\n",
    "# model.add(Dropout(0.15))\n",
    "# model.add(Dense(25, activation='relu'))\n",
    "# model.add(Dropout(0.15))\n",
    "# model.add(Dense(1, activation='linear'))\n",
    "# model.compile(loss='mse', optimizer='adam', metrics=['mse'])\n",
    "# history=model.fit(X_train, y_train, epochs=50, batch_size=16, validation_data=(X_test,y_test))"
   ]
  },
  {
   "cell_type": "code",
   "execution_count": 51,
   "metadata": {},
   "outputs": [
    {
     "data": {
      "image/png": "[encoded data removed]",
      "text/plain": [
       "<Figure size 1000x600 with 1 Axes>"
      ]
     },
     "metadata": {},
     "output_type": "display_data"
    }
   ],
   "source": [
    "# Visualisoidaan mallin oppiminen\n",
    "plt.figure(figsize=(10, 6))\n",
    "plt.plot(history.history['loss'], label='loss')\n",
    "plt.plot(history.history['val_loss'], label='val_loss')\n",
    "plt.legend()\n",
    "plt.ylim(bottom=0, top=5 * min(history.history['val_loss']))\n",
    "plt.grid(True)\n",
    "plt.show()"
   ]
  },
  {
   "cell_type": "code",
   "execution_count": 49,
   "metadata": {},
   "outputs": [
    {
     "name": "stdout",
     "output_type": "stream",
     "text": [
      "129/129 [==============================] - 0s 3ms/step\n",
      "\n",
      "ann:\n",
      "r2: -3.231738225834812\n",
      "mae: 5.693348304163871e+40\n",
      "rmse: 6.5149196417002215e+40\n",
      "\n"
     ]
    }
   ],
   "source": [
    "y_pred = scaler_y.inverse_transform(model.predict(X_test))\n",
    "y_test = scaler_y.inverse_transform(y_test)\n",
    "mae = mean_absolute_error(y_test, y_pred)\n",
    "r2 = r2_score(y_test, y_pred)\n",
    "mse = mean_squared_error(y_test, y_pred)\n",
    "rmse = np.sqrt(mse)\n",
    "\n",
    "print ('\\nann:')\n",
    "print (f'r2: {r2}')\n",
    "print (f'mae: {mae}')\n",
    "print (f'rmse: {rmse}\\n')"
   ]
  },
  {
   "cell_type": "code",
   "execution_count": 40,
   "metadata": {},
   "outputs": [
    {
     "name": "stderr",
     "output_type": "stream",
     "text": [
      "/opt/conda/lib/python3.11/site-packages/keras/src/engine/training.py:3000: UserWarning: You are saving your model as an HDF5 file via `model.save()`. This file format is considered legacy. We recommend using instead the native Keras format, e.g. `model.save('my_model.keras')`.\n",
      "  saving_api.save_model(\n"
     ]
    }
   ],
   "source": [
    "# tallentaan malli levylle\n",
    "model.save('./work/viikko10/model/housing-ann-model.h5')\n",
    "\n",
    "# save encoder to disk\n",
    "with open('./work/viikko10/model/housing-ann-ct.pickle', 'wb') as f:\n",
    "    pickle.dump(ct, f)\n",
    "\n",
    "# save scalers to disk\n",
    "with open('./work/viikko10/model/housing-ann-scaler_x.pickle', 'wb') as f:\n",
    "    pickle.dump(scaler_x, f)\n",
    "\n",
    "with open('./work/viikko10/model/housing-ann-scaler_y.pickle', 'wb') as f:\n",
    "    pickle.dump(scaler_y, f)"
   ]
  }
 ],
 "metadata": {
  "kernelspec": {
   "display_name": "Python 3 (ipykernel)",
   "language": "python",
   "name": "python3"
  },
  "language_info": {
   "codemirror_mode": {
    "name": "ipython",
    "version": 3
   },
   "file_extension": ".py",
   "mimetype": "text/x-python",
   "name": "python",
   "nbconvert_exporter": "python",
   "pygments_lexer": "ipython3",
   "version": "3.11.5"
  }
 },
 "nbformat": 4,
 "nbformat_minor": 2
}
